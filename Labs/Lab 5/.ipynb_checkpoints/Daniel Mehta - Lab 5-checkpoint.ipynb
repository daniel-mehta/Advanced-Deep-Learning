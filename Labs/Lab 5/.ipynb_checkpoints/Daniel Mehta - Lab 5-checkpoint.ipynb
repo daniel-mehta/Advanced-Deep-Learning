{
 "cells": [
  {
   "cell_type": "markdown",
   "id": "b32b527a-6e3b-4091-8be7-2ef380fa4790",
   "metadata": {},
   "source": [
    "# Lab 5\n",
    "### Daniel Mehta"
   ]
  },
  {
   "cell_type": "code",
   "execution_count": 1,
   "id": "520354c9-c705-4163-9c91-44f9cf043ae8",
   "metadata": {},
   "outputs": [
    {
     "name": "stdout",
     "output_type": "stream",
     "text": [
      "WARNING:tensorflow:From C:\\Users\\danie\\AppData\\Local\\Programs\\Python\\Python310\\lib\\site-packages\\keras\\src\\losses.py:2976: The name tf.losses.sparse_softmax_cross_entropy is deprecated. Please use tf.compat.v1.losses.sparse_softmax_cross_entropy instead.\n",
      "\n"
     ]
    }
   ],
   "source": [
    "# imports\n",
    "import tensorflow as tf\n",
    "from tensorflow.keras.datasets import cifar10\n",
    "from tensorflow.keras.utils import to_categorical\n",
    "from tensorflow.keras.preprocessing.image import ImageDataGenerator\n",
    "from sklearn.model_selection import train_test_split\n",
    "import numpy as np\n",
    "import matplotlib.pyplot as plt\n",
    "from tensorflow.keras.applications import ResNet50\n",
    "from tensorflow.keras.models import Sequential\n",
    "from tensorflow.keras.layers import GlobalAveragePooling2D, Dense, Dropout, BatchNormalization\n",
    "from tensorflow.keras.optimizers import Adam\n",
    "from tensorflow.keras.callbacks import EarlyStopping"
   ]
  },
  {
   "cell_type": "markdown",
   "id": "b191fa42-c27c-4642-8f66-c46476349d69",
   "metadata": {},
   "source": [
    "## Load dataset and Preprocessing"
   ]
  },
  {
   "cell_type": "code",
   "execution_count": 2,
   "id": "997ca3d7-903f-49af-b191-08413cc23f0e",
   "metadata": {},
   "outputs": [],
   "source": [
    "# load CIFAR 10 dataset\n",
    "(x_train, y_train),(x_test, y_test) = cifar10.load_data()"
   ]
  },
  {
   "cell_type": "code",
   "execution_count": 3,
   "id": "0f254510-3936-4045-99aa-6bc3abf0afa0",
   "metadata": {},
   "outputs": [],
   "source": [
    "# Only using 10,000 training images and 2000 testing images (full dataset was too large for my pc to handle)\n",
    "x_train = x_train[:10000]\n",
    "y_train = y_train[:10000]\n",
    "x_test = x_test[:2000]\n",
    "y_test = y_test[:2000]"
   ]
  },
  {
   "cell_type": "code",
   "execution_count": 4,
   "id": "54a4f876-7414-42e8-a62e-ee37814e139a",
   "metadata": {},
   "outputs": [],
   "source": [
    "# normailze pixel values [0,1]\n",
    "x_train =x_train.astype('float32')/255\n",
    "x_test  =x_test.astype('float32')/255"
   ]
  },
  {
   "cell_type": "code",
   "execution_count": 5,
   "id": "e8094bd7-c7b2-4226-9bf3-223d3ce481bf",
   "metadata": {},
   "outputs": [],
   "source": [
    "# resize for ResNet50. to 224x224\n",
    "x_train_resized = tf.image.resize(x_train, [224,224])\n",
    "x_test_resized = tf.image.resize(x_test, [224,224])"
   ]
  },
  {
   "cell_type": "code",
   "execution_count": 6,
   "id": "4b3658f2-92da-4990-acf8-9104a925d5d7",
   "metadata": {},
   "outputs": [],
   "source": [
    "# Flattening label arrays\n",
    "y_train =y_train.flatten()\n",
    "y_test =y_test.flatten()"
   ]
  },
  {
   "cell_type": "code",
   "execution_count": 7,
   "id": "0fcb1482-ae00-4dca-bf8e-79df65809c02",
   "metadata": {},
   "outputs": [
    {
     "name": "stdout",
     "output_type": "stream",
     "text": [
      "Training data shape: (10000, 224, 224, 3)\n",
      "Training labels shape: (10000,)\n",
      "Test data shape: (2000, 224, 224, 3)\n",
      "Test labels shape: (2000,)\n"
     ]
    }
   ],
   "source": [
    "# Printing to confirm the shapes\n",
    "print(\"Training data shape:\",x_train_resized.shape)\n",
    "print(\"Training labels shape:\", y_train.shape)\n",
    "print(\"Test data shape:\",x_test_resized.shape)\n",
    "print(\"Test labels shape:\", y_test.shape)"
   ]
  },
  {
   "cell_type": "markdown",
   "id": "3939647c-af54-4788-892c-c0ad2e31d7eb",
   "metadata": {},
   "source": [
    "## Data Augmentation and Train/Val Generators"
   ]
  },
  {
   "cell_type": "code",
   "execution_count": 8,
   "id": "a7ce181f-39a2-43cb-92bb-31d97d49c143",
   "metadata": {},
   "outputs": [],
   "source": [
    "# convert to numpy before splitting \n",
    "x_train_resized =x_train_resized.numpy()\n",
    "x_test_resized =x_test_resized.numpy()"
   ]
  },
  {
   "cell_type": "code",
   "execution_count": 9,
   "id": "c05d299d-3232-4d5b-94db-00d6038c4c37",
   "metadata": {},
   "outputs": [],
   "source": [
    "# 80/20 split train/val\n",
    "x_train_final, x_val, y_train_final, y_val = train_test_split(\n",
    "    x_train_resized, y_train, test_size=0.2, random_state=5500\n",
    ")"
   ]
  },
  {
   "cell_type": "code",
   "execution_count": 10,
   "id": "16d266f3-34ad-4f7c-ad4d-160f0492706d",
   "metadata": {},
   "outputs": [],
   "source": [
    "# createing a ImageDataGenerator for training with augmentation\n",
    "train_datagen = ImageDataGenerator(\n",
    "    rotation_range=10,\n",
    "    horizontal_flip=True,\n",
    "    zoom_range=0.05,\n",
    "    brightness_range=[0.9, 1.1]\n",
    ")"
   ]
  },
  {
   "cell_type": "code",
   "execution_count": 11,
   "id": "9968da87-3006-49e4-86a0-ce98f7751a76",
   "metadata": {},
   "outputs": [],
   "source": [
    "# doesnt change the validation images. keeps raw for accurate eval\n",
    "val_datagen =ImageDataGenerator()"
   ]
  },
  {
   "cell_type": "code",
   "execution_count": 12,
   "id": "ba2cd13f-7146-48c0-9372-9bb62b83dd1a",
   "metadata": {},
   "outputs": [],
   "source": [
    "#create training and validation generators from numpy arrays\n",
    "train_generator = train_datagen.flow(\n",
    "    x_train_final, y_train_final,batch_size=32\n",
    ")\n",
    "\n",
    "val_generator = val_datagen.flow(\n",
    "    x_val, y_val,batch_size=32\n",
    ")"
   ]
  },
  {
   "cell_type": "markdown",
   "id": "26beb8ba-6146-46c3-8457-7779e27ecedc",
   "metadata": {},
   "source": [
    "## ResNet50 transfer learning model"
   ]
  },
  {
   "cell_type": "code",
   "execution_count": 13,
   "id": "1217054c-135f-49e0-bb5e-79443c2e2b5a",
   "metadata": {},
   "outputs": [
    {
     "name": "stdout",
     "output_type": "stream",
     "text": [
      "WARNING:tensorflow:From C:\\Users\\danie\\AppData\\Local\\Programs\\Python\\Python310\\lib\\site-packages\\keras\\src\\backend.py:1398: The name tf.executing_eagerly_outside_functions is deprecated. Please use tf.compat.v1.executing_eagerly_outside_functions instead.\n",
      "\n",
      "WARNING:tensorflow:From C:\\Users\\danie\\AppData\\Local\\Programs\\Python\\Python310\\lib\\site-packages\\keras\\src\\layers\\normalization\\batch_normalization.py:979: The name tf.nn.fused_batch_norm is deprecated. Please use tf.compat.v1.nn.fused_batch_norm instead.\n",
      "\n"
     ]
    }
   ],
   "source": [
    "# load base Resnet50\n",
    "base_model = ResNet50(weights='imagenet', include_top=False,input_shape=(224, 224,3))"
   ]
  },
  {
   "cell_type": "code",
   "execution_count": 14,
   "id": "6efd114b-2aba-4866-ad56-31d17478b96c",
   "metadata": {},
   "outputs": [],
   "source": [
    "# freeze all base layer\n",
    "for layer in base_model.layers:\n",
    "    layer.trainable =False\n",
    "\n",
    "# unfreezing last 20 layers to allow task specific fine tuning\n",
    "for layer in base_model.layers[-20:]:\n",
    "    layer.trainable = True"
   ]
  },
  {
   "cell_type": "code",
   "execution_count": 15,
   "id": "1f923a12-0752-4e31-ad6c-f222ef642039",
   "metadata": {},
   "outputs": [],
   "source": [
    "# building full model\n",
    "model = Sequential([\n",
    "    base_model,\n",
    "    GlobalAveragePooling2D(),\n",
    "    Dense(1024, activation='relu'),\n",
    "    BatchNormalization(),\n",
    "    Dropout(0.5),\n",
    "    Dense(10, activation='softmax')  #CIFAR10 has 10 classes\n",
    "])"
   ]
  },
  {
   "cell_type": "markdown",
   "id": "cc450e91-2fce-4e8f-86ed-4a96098093a0",
   "metadata": {},
   "source": [
    "## Compile the model"
   ]
  },
  {
   "cell_type": "code",
   "execution_count": 16,
   "id": "0834e079-b434-431b-82a0-df08d0195de0",
   "metadata": {},
   "outputs": [],
   "source": [
    "# compiling using Adam optimizaer\n",
    "model.compile(\n",
    "    optimizer=Adam(), # adaptive learning rate\n",
    "    loss='sparse_categorical_crossentropy',\n",
    "    metrics=['accuracy']\n",
    ")"
   ]
  },
  {
   "cell_type": "markdown",
   "id": "49a866d9-c070-4724-86ec-5cbd3af7f213",
   "metadata": {},
   "source": [
    "## Adding Early Stopping"
   ]
  },
  {
   "cell_type": "code",
   "execution_count": 17,
   "id": "63aeeed6-0eae-4216-98d7-edf844a7e507",
   "metadata": {},
   "outputs": [],
   "source": [
    "# defining EarlyStopping to stop training when the val loss stops improving\n",
    "early_stop = EarlyStopping(\n",
    "    monitor='val_loss',\n",
    "    patience=3, #min of 3 epochs before stopping\n",
    "    restore_best_weights=True # goes back to best model weight\n",
    ")"
   ]
  },
  {
   "cell_type": "markdown",
   "id": "7d4c10fc-e8d5-4f6b-ba0c-806d35bd7dad",
   "metadata": {},
   "source": [
    "## Training the model"
   ]
  },
  {
   "cell_type": "code",
   "execution_count": 18,
   "id": "b9ca77b5-2a10-40e4-9fd9-60aec08d3e9d",
   "metadata": {},
   "outputs": [
    {
     "name": "stdout",
     "output_type": "stream",
     "text": [
      "Epoch 1/500\n",
      "WARNING:tensorflow:From C:\\Users\\danie\\AppData\\Local\\Programs\\Python\\Python310\\lib\\site-packages\\keras\\src\\utils\\tf_utils.py:492: The name tf.ragged.RaggedTensorValue is deprecated. Please use tf.compat.v1.ragged.RaggedTensorValue instead.\n",
      "\n",
      "WARNING:tensorflow:From C:\\Users\\danie\\AppData\\Local\\Programs\\Python\\Python310\\lib\\site-packages\\keras\\src\\engine\\base_layer_utils.py:384: The name tf.executing_eagerly_outside_functions is deprecated. Please use tf.compat.v1.executing_eagerly_outside_functions instead.\n",
      "\n",
      "250/250 [==============================] - 136s 534ms/step - loss: 2.4575 - accuracy: 0.0997 - val_loss: 31.8237 - val_accuracy: 0.1015\n",
      "Epoch 2/500\n",
      "250/250 [==============================] - 131s 522ms/step - loss: 2.3608 - accuracy: 0.1091 - val_loss: 12.2081 - val_accuracy: 0.1015\n",
      "Epoch 3/500\n",
      "250/250 [==============================] - 132s 528ms/step - loss: 2.3396 - accuracy: 0.1116 - val_loss: 20.2124 - val_accuracy: 0.0980\n",
      "Epoch 4/500\n",
      "250/250 [==============================] - 131s 522ms/step - loss: 2.3266 - accuracy: 0.1045 - val_loss: 18.6971 - val_accuracy: 0.1010\n",
      "Epoch 5/500\n",
      "250/250 [==============================] - 130s 521ms/step - loss: 2.3091 - accuracy: 0.1070 - val_loss: 15.6406 - val_accuracy: 0.0935\n"
     ]
    }
   ],
   "source": [
    "history = model.fit(\n",
    "    train_generator,\n",
    "    epochs=500,\n",
    "    validation_data=val_generator,\n",
    "    callbacks=[early_stop], # Early stopping\n",
    "    verbose=1\n",
    ")"
   ]
  },
  {
   "cell_type": "markdown",
   "id": "b85ffe19-42aa-4de5-8216-7447d6fa8c64",
   "metadata": {},
   "source": [
    "## Plotting and Evaluation"
   ]
  },
  {
   "cell_type": "code",
   "execution_count": 19,
   "id": "db5c6240-09dc-4802-b010-165a43e379fd",
   "metadata": {},
   "outputs": [],
   "source": [
    "# Converting accuracy values to percentages\n",
    "trainAcc = [100*x for x in history.history['accuracy']]\n",
    "testAcc = [100*x for x in history.history['val_accuracy']]"
   ]
  },
  {
   "cell_type": "code",
   "execution_count": 20,
   "id": "7927c1a4-c247-4e6a-b850-bf96ecf06bac",
   "metadata": {},
   "outputs": [
    {
     "data": {
      "image/png": "[encoded data removed]",
      "text/plain": [
       "<Figure size 1800x600 with 2 Axes>"
      ]
     },
     "metadata": {},
     "output_type": "display_data"
    }
   ],
   "source": [
    "fig, ax = plt.subplots(1, 2, figsize=(18, 6))\n",
    "\n",
    "# loss plot\n",
    "ax[0].plot(history.history['loss'], 'g', lw=3, label='Training Loss')\n",
    "ax[0].plot(history.history['val_loss'], 'y', lw=3, label='Validation Loss')\n",
    "ax[0].set_xlabel('Epochs', fontsize = 15)\n",
    "ax[0].set_ylabel('Loss', fontsize = 15)\n",
    "ax[0].legend(fontsize = 15)\n",
    "ax[0].set_title('Training Loss', fontsize = 15)\n",
    "\n",
    "# accuracy plot\n",
    "ax[1].plot(trainAcc, label ='Train', lw = 3)\n",
    "ax[1].plot(testAcc, label ='Test', lw = 3)\n",
    "ax[1].set_xlabel('Epochs', fontsize = 15)\n",
    "ax[1].set_ylabel('Accuracy (%)', fontsize = 15)\n",
    "ax[1].set_ylim([10,110])\n",
    "ax[1].set_title(f'Train Accuracy: {trainAcc[-1]:.2f}% \\n Test Accuracy: {testAcc[-1]:.2f}%', fontsize = 15)\n",
    "ax[1].legend(fontsize = 15)\n",
    "\n",
    "plt.tight_layout()\n",
    "plt.show()"
   ]
  },
  {
   "cell_type": "code",
   "execution_count": 21,
   "id": "095b39b9-a54c-4483-b5fe-7f730b2cb986",
   "metadata": {},
   "outputs": [
    {
     "name": "stdout",
     "output_type": "stream",
     "text": [
      "Final Validation Accuracy: 0.1015\n",
      "Final Validation Loss: 12.2081\n"
     ]
    }
   ],
   "source": [
    "val_loss_final, val_acc_final = model.evaluate(val_generator, verbose=0)\n",
    "print(f\"Final Validation Accuracy: {val_acc_final:.4f}\")\n",
    "print(f\"Final Validation Loss: {val_loss_final:.4f}\")"
   ]
  },
  {
   "cell_type": "code",
   "execution_count": 22,
   "id": "2c48a9bf-fadf-4cbf-9b08-5f4d40cf41f1",
   "metadata": {},
   "outputs": [
    {
     "name": "stdout",
     "output_type": "stream",
     "text": [
      "Train Accuracy History: [9.974999725818634, 10.912500321865082, 11.162500083446503, 10.450000315904617, 10.700000077486038]\n",
      "Test Accuracy History: [10.14999970793724, 10.14999970793724, 9.799999743700027, 10.100000351667404, 9.350000321865082]\n"
     ]
    }
   ],
   "source": [
    "print(\"Train Accuracy History:\", trainAcc)\n",
    "print(\"Test Accuracy History:\", testAcc)"
   ]
  },
  {
   "cell_type": "code",
   "execution_count": null,
   "id": "f0361e95-9bc6-4fb4-afd5-279d51364b98",
   "metadata": {},
   "outputs": [],
   "source": []
  }
 ],
 "metadata": {
  "kernelspec": {
   "display_name": "Python 3 (ipykernel)",
   "language": "python",
   "name": "python3"
  },
  "language_info": {
   "codemirror_mode": {
    "name": "ipython",
    "version": 3
   },
   "file_extension": ".py",
   "mimetype": "text/x-python",
   "name": "python",
   "nbconvert_exporter": "python",
   "pygments_lexer": "ipython3",
   "version": "3.10.11"
  }
 },
 "nbformat": 4,
 "nbformat_minor": 5
}
