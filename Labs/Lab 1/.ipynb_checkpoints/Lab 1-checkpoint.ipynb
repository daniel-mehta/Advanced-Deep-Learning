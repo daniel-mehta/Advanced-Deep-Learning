{
 "cells": [
  {
   "cell_type": "markdown",
   "id": "6049b7bf-eb4b-4b45-87cf-d22f2755aa77",
   "metadata": {},
   "source": [
    "# Lab 1\n",
    "## Daniel Mehta"
   ]
  },
  {
   "cell_type": "code",
   "execution_count": 2,
   "id": "4887feb4-7f72-41f5-990b-083acde4e7cf",
   "metadata": {},
   "outputs": [],
   "source": [
    "import numpy as np"
   ]
  },
  {
   "cell_type": "markdown",
   "id": "5586cfc8-c7e4-47a6-8271-996024300ffd",
   "metadata": {},
   "source": [
    "# AND Implementation"
   ]
  },
  {
   "cell_type": "code",
   "execution_count": 4,
   "id": "49744958-c200-4d42-99f4-06c7cb564d69",
   "metadata": {},
   "outputs": [],
   "source": [
    "X = np.array([[0, 0],\n",
    "              [0, 1],\n",
    "              [1, 0],\n",
    "              [1, 1]])\n",
    "\n",
    "y = np.array([0, 0, 0, 1])  # AND outputs\n"
   ]
  },
  {
   "cell_type": "code",
   "execution_count": 5,
   "id": "5270f317-c7fe-466d-b797-41abdbc095f1",
   "metadata": {},
   "outputs": [],
   "source": [
    "weights = np.zeros(2)\n",
    "bias = 0\n",
    "\n",
    "learning_rate = 0.1\n",
    "iterations = 1000"
   ]
  },
  {
   "cell_type": "code",
   "execution_count": 6,
   "id": "a24abe59-55fd-4cd0-bc46-8f86bb34508d",
   "metadata": {},
   "outputs": [],
   "source": [
    "def activation(x):\n",
    "    return 1 if x >= 0 else 0"
   ]
  },
  {
   "cell_type": "code",
   "execution_count": 7,
   "id": "43d7e272-c0dd-45f4-b80a-9b8a1493ddde",
   "metadata": {},
   "outputs": [
    {
     "name": "stdout",
     "output_type": "stream",
     "text": [
      "Epoch 1: Weights: [0.1 0.1], Bias: 0.0\n",
      "Epoch 101: Weights: [0.2 0.1], Bias: -0.20000000000000004\n",
      "Epoch 201: Weights: [0.2 0.1], Bias: -0.20000000000000004\n",
      "Epoch 301: Weights: [0.2 0.1], Bias: -0.20000000000000004\n",
      "Epoch 401: Weights: [0.2 0.1], Bias: -0.20000000000000004\n",
      "Epoch 501: Weights: [0.2 0.1], Bias: -0.20000000000000004\n",
      "Epoch 601: Weights: [0.2 0.1], Bias: -0.20000000000000004\n",
      "Epoch 701: Weights: [0.2 0.1], Bias: -0.20000000000000004\n",
      "Epoch 801: Weights: [0.2 0.1], Bias: -0.20000000000000004\n",
      "Epoch 901: Weights: [0.2 0.1], Bias: -0.20000000000000004\n"
     ]
    }
   ],
   "source": [
    "for epoch in range(iterations):\n",
    "    for i in range(len(X)):\n",
    "        \n",
    "        weighted_sum = np.dot(X[i], weights) + bias\n",
    "        prediction = activation(weighted_sum)\n",
    "        \n",
    "        error = y[i] - prediction\n",
    "        weights += learning_rate * error * X[i]\n",
    "        bias += learning_rate * error\n",
    "\n",
    "    if epoch % 100 == 0:\n",
    "        print(f\"Epoch {epoch+1}: Weights: {weights}, Bias: {bias}\")"
   ]
  },
  {
   "cell_type": "code",
   "execution_count": 8,
   "id": "87dbba5b-aaae-4443-97cc-81278fd75d0a",
   "metadata": {},
   "outputs": [
    {
     "name": "stdout",
     "output_type": "stream",
     "text": [
      "Final Weights: [0.2 0.1]\n",
      "Final Bias: -0.20000000000000004\n"
     ]
    }
   ],
   "source": [
    "print(f\"Final Weights: {weights}\")\n",
    "print(f\"Final Bias: {bias}\")"
   ]
  },
  {
   "cell_type": "code",
   "execution_count": 9,
   "id": "09b4dbc2-095a-4390-b43c-a63d3ffb2cb0",
   "metadata": {},
   "outputs": [
    {
     "name": "stdout",
     "output_type": "stream",
     "text": [
      "Input: [0 0] => Predicted Output: 0, Actual Output: 0\n",
      "Input: [0 1] => Predicted Output: 0, Actual Output: 0\n",
      "Input: [1 0] => Predicted Output: 0, Actual Output: 0\n",
      "Input: [1 1] => Predicted Output: 1, Actual Output: 1\n"
     ]
    }
   ],
   "source": [
    "def predict(inputs):\n",
    "    weighted_sum = np.dot(inputs, weights) + bias\n",
    "    return activation(weighted_sum)\n",
    "for i in range(len(X)):\n",
    "    print(f\"Input: {X[i]} => Predicted Output: {predict(X[i])}, Actual Output: {y[i]}\")"
   ]
  },
  {
   "cell_type": "markdown",
   "id": "b66f21be-58af-43f9-bb43-d64abdcab2dd",
   "metadata": {},
   "source": [
    "# OR Implementation"
   ]
  },
  {
   "cell_type": "code",
   "execution_count": 11,
   "id": "365ae679-7d2c-47ba-ae7a-81137c15758e",
   "metadata": {},
   "outputs": [],
   "source": [
    "X = np.array([[0, 0],\n",
    "              [0, 1],\n",
    "              [1, 0],\n",
    "              [1, 1]])\n",
    "y = np.array([0, 1, 1, 1]) # Changed for OR"
   ]
  },
  {
   "cell_type": "code",
   "execution_count": 12,
   "id": "0173f9a3-7d8b-410d-98c6-c5fd86a68210",
   "metadata": {},
   "outputs": [],
   "source": [
    "weights = np.zeros(2)\n",
    "bias = 0\n",
    "\n",
    "learning_rate = 0.1\n",
    "iterations = 1000"
   ]
  },
  {
   "cell_type": "code",
   "execution_count": 13,
   "id": "b26c33bb-917e-4ce7-baf3-fa6921a6b5a2",
   "metadata": {},
   "outputs": [],
   "source": [
    "def activation(x):\n",
    "    return 1 if x >= 0 else 0"
   ]
  },
  {
   "cell_type": "code",
   "execution_count": 14,
   "id": "75d275bb-3aa7-489f-a9f5-293b2e9e66c2",
   "metadata": {},
   "outputs": [
    {
     "name": "stdout",
     "output_type": "stream",
     "text": [
      "Epoch 1: Weights: [0.  0.1], Bias: 0.0\n",
      "Epoch 101: Weights: [0.1 0.1], Bias: -0.1\n",
      "Epoch 201: Weights: [0.1 0.1], Bias: -0.1\n",
      "Epoch 301: Weights: [0.1 0.1], Bias: -0.1\n",
      "Epoch 401: Weights: [0.1 0.1], Bias: -0.1\n",
      "Epoch 501: Weights: [0.1 0.1], Bias: -0.1\n",
      "Epoch 601: Weights: [0.1 0.1], Bias: -0.1\n",
      "Epoch 701: Weights: [0.1 0.1], Bias: -0.1\n",
      "Epoch 801: Weights: [0.1 0.1], Bias: -0.1\n",
      "Epoch 901: Weights: [0.1 0.1], Bias: -0.1\n"
     ]
    }
   ],
   "source": [
    "for epoch in range(iterations):\n",
    "    for i in range(len(X)):\n",
    "        \n",
    "        weighted_sum = np.dot(X[i], weights) + bias\n",
    "        prediction = activation(weighted_sum)\n",
    "        \n",
    "        error = y[i] - prediction\n",
    "        weights += learning_rate * error * X[i]\n",
    "        bias += learning_rate * error\n",
    "\n",
    "    if epoch % 100 == 0:\n",
    "        print(f\"Epoch {epoch+1}: Weights: {weights}, Bias: {bias}\")"
   ]
  },
  {
   "cell_type": "code",
   "execution_count": 15,
   "id": "7e72ceb1-9c3a-4690-8b6e-d0bfd86096ac",
   "metadata": {},
   "outputs": [
    {
     "name": "stdout",
     "output_type": "stream",
     "text": [
      "Final Weights: [0.1 0.1]\n",
      "Final Bias: -0.1\n"
     ]
    }
   ],
   "source": [
    "print(f\"Final Weights: {weights}\")\n",
    "print(f\"Final Bias: {bias}\")"
   ]
  },
  {
   "cell_type": "code",
   "execution_count": 16,
   "id": "44c76498-9ad5-4e63-bf3d-f8ce08d23544",
   "metadata": {},
   "outputs": [
    {
     "name": "stdout",
     "output_type": "stream",
     "text": [
      "Input: [0 0] => Predicted Output: 0, Actual Output: 0\n",
      "Input: [0 1] => Predicted Output: 1, Actual Output: 1\n",
      "Input: [1 0] => Predicted Output: 1, Actual Output: 1\n",
      "Input: [1 1] => Predicted Output: 1, Actual Output: 1\n"
     ]
    }
   ],
   "source": [
    "def predict(inputs):\n",
    "    weighted_sum = np.dot(inputs, weights) + bias\n",
    "    return activation(weighted_sum)\n",
    "for i in range(len(X)):\n",
    "    print(f\"Input: {X[i]} => Predicted Output: {predict(X[i])}, Actual Output: {y[i]}\")"
   ]
  },
  {
   "cell_type": "code",
   "execution_count": null,
   "id": "ddf5bb55-4819-4a64-9a6c-a065c2f7697d",
   "metadata": {},
   "outputs": [],
   "source": []
  }
 ],
 "metadata": {
  "kernelspec": {
   "display_name": "Python (moflow)",
   "language": "python",
   "name": "moflow"
  },
  "language_info": {
   "codemirror_mode": {
    "name": "ipython",
    "version": 3
   },
   "file_extension": ".py",
   "mimetype": "text/x-python",
   "name": "python",
   "nbconvert_exporter": "python",
   "pygments_lexer": "ipython3",
   "version": "3.10.16"
  }
 },
 "nbformat": 4,
 "nbformat_minor": 5
}
