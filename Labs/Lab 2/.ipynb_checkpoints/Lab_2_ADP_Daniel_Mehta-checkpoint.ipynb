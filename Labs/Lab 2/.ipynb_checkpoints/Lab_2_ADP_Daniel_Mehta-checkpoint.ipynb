{
 "cells": [
  {
   "cell_type": "markdown",
   "id": "3abf4390-2126-4443-a3f5-4fd261305b15",
   "metadata": {},
   "source": [
    "# Lab 2\n",
    "### Daniel Mehta"
   ]
  },
  {
   "cell_type": "markdown",
   "id": "799377cc-34b7-48a4-a54b-5127c4651580",
   "metadata": {},
   "source": [
    "Write a code to train the following architecture to learn XOR using Backpropagation.\n",
    "\n",
    "- That has 2 inputs\n",
    "- One hidden layer that consist of 2 or more neurons\n",
    "- One output layer"
   ]
  },
  {
   "cell_type": "code",
   "execution_count": 4,
   "id": "8e428928-dda7-4dce-ba09-228eb586709b",
   "metadata": {},
   "outputs": [],
   "source": [
    "import numpy as np"
   ]
  },
  {
   "cell_type": "code",
   "execution_count": 5,
   "id": "f4bff76f-df52-4e5f-a7c2-66fc6137b1f0",
   "metadata": {},
   "outputs": [],
   "source": [
    "X = np.array([[0,0], [0,1], [1,0], [1,1]])\n",
    "y = np.array([[0], [1], [1], [0]])"
   ]
  },
  {
   "cell_type": "code",
   "execution_count": 6,
   "id": "bf2c5a0c-727c-4428-8dc1-8d94855bcaa3",
   "metadata": {},
   "outputs": [],
   "source": [
    "def sigmoid(x):\n",
    "    return 1 / (1 + np.exp(-x))\n",
    "def sigmoid_deriv(x):\n",
    "    return x * (1 - x)"
   ]
  },
  {
   "cell_type": "code",
   "execution_count": 7,
   "id": "6b63f65c-4769-494f-810d-d3323e0e58df",
   "metadata": {},
   "outputs": [],
   "source": [
    "np.random.seed(5500)\n",
    "\n",
    "#2 input neurons, 2 hidden neurons, 1 output neuron\n",
    "input_size, hidden_size, output_size = 2, 2, 1\n",
    "\n",
    "#weights and bias for input to hidden layer\n",
    "W1 = np.random.randn(input_size, hidden_size)\n",
    "b1 = np.zeros((1, hidden_size))\n",
    "\n",
    "# wights for hidden to output\n",
    "W2 = np.random.randn(hidden_size, output_size)\n",
    "b2 = np.zeros((1, output_size))"
   ]
  },
  {
   "cell_type": "code",
   "execution_count": 8,
   "id": "1d18cf88-2d3b-4003-9d71-ac60acd15b43",
   "metadata": {},
   "outputs": [],
   "source": [
    "epochs = 10000\n",
    "lr = 0.1"
   ]
  },
  {
   "cell_type": "code",
   "execution_count": 9,
   "id": "4d9e0cfc-3bc8-4294-ab2e-54072b5f5bdf",
   "metadata": {},
   "outputs": [],
   "source": [
    "for epoch in range(epochs):\n",
    "    \n",
    "    #forward pass\n",
    "    z1 = np.dot(X, W1) + b1\n",
    "    a1 = sigmoid(z1)\n",
    "    z2 = np.dot(a1, W2) + b2\n",
    "    a2 = sigmoid(z2)\n",
    "    \n",
    "    #backward pass\n",
    "    error = y - a2\n",
    "    d_output = error * sigmoid_deriv(a2)\n",
    "    d_hidden = np.dot(d_output, W2.T) * sigmoid_deriv(a1)\n",
    "    \n",
    "    #updated weights and biases\n",
    "    W2 += lr * np.dot(a1.T, d_output)\n",
    "    b2 += lr * np.sum(d_output, axis=0, keepdims=True)\n",
    "    W1 += lr * np.dot(X.T, d_hidden)\n",
    "    b1 += lr * np.sum(d_hidden, axis=0, keepdims=True)"
   ]
  },
  {
   "cell_type": "code",
   "execution_count": 10,
   "id": "746aa686-9cca-43f4-83c8-7b9343ef2af4",
   "metadata": {},
   "outputs": [
    {
     "name": "stdout",
     "output_type": "stream",
     "text": [
      "Predictions after training:\n",
      "[[0.062]\n",
      " [0.946]\n",
      " [0.947]\n",
      " [0.055]]\n"
     ]
    }
   ],
   "source": [
    "print(\"Predictions after training:\")\n",
    "print(np.round(a2, 3))"
   ]
  },
  {
   "cell_type": "code",
   "execution_count": null,
   "id": "a110947e-32ac-4775-84b6-c4a8dfc3e17a",
   "metadata": {},
   "outputs": [],
   "source": []
  }
 ],
 "metadata": {
  "kernelspec": {
   "display_name": "Python (moflow)",
   "language": "python",
   "name": "moflow"
  },
  "language_info": {
   "codemirror_mode": {
    "name": "ipython",
    "version": 3
   },
   "file_extension": ".py",
   "mimetype": "text/x-python",
   "name": "python",
   "nbconvert_exporter": "python",
   "pygments_lexer": "ipython3",
   "version": "3.10.16"
  }
 },
 "nbformat": 4,
 "nbformat_minor": 5
}
