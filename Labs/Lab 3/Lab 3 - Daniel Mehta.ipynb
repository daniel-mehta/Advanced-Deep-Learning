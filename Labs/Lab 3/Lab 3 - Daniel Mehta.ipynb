{
 "cells": [
  {
   "cell_type": "markdown",
   "id": "4bd1f542-7ca0-43cb-a8d5-14aebc36713e",
   "metadata": {},
   "source": [
    "# Lab 3\n",
    "### Daniel Mehta"
   ]
  },
  {
   "cell_type": "code",
   "execution_count": null,
   "id": "b9b151a6-2d3e-4377-b7b3-0e3c50844fa6",
   "metadata": {},
   "outputs": [],
   "source": []
  }
 ],
 "metadata": {
  "kernelspec": {
   "display_name": "Python 3 (ipykernel)",
   "language": "python",
   "name": "python3"
  },
  "language_info": {
   "codemirror_mode": {
    "name": "ipython",
    "version": 3
   },
   "file_extension": ".py",
   "mimetype": "text/x-python",
   "name": "python",
   "nbconvert_exporter": "python",
   "pygments_lexer": "ipython3",
   "version": "3.10.16"
  }
 },
 "nbformat": 4,
 "nbformat_minor": 5
}
