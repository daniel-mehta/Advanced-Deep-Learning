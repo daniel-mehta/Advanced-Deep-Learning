{
 "cells": [
  {
   "cell_type": "markdown",
   "metadata": {
    "id": "s8R7EgUfCyNT"
   },
   "source": [
    "# Import Libraries"
   ]
  },
  {
   "cell_type": "code",
   "execution_count": 2,
   "metadata": {
    "executionInfo": {
     "elapsed": 4749,
     "status": "ok",
     "timestamp": 1718733328621,
     "user": {
      "displayName": "zeeshan ahmad",
      "userId": "09790783261567949831"
     },
     "user_tz": 240
    },
    "id": "gDSnp031m54o"
   },
   "outputs": [],
   "source": [
    "import tensorflow as tf\n",
    "from tensorflow.keras.layers import Input, LSTM, Dense, Bidirectional, GlobalMaxPooling1D\n",
    "from tensorflow.keras.models import Model\n",
    "from tensorflow.keras.optimizers import  Adam\n",
    "import numpy as np\n",
    "import pandas as pd\n",
    "import matplotlib.pyplot as plt\n",
    "from matplotlib import style\n",
    "style.use('dark_background')\n",
    "from sklearn.model_selection import train_test_split"
   ]
  },
  {
   "cell_type": "markdown",
   "metadata": {
    "id": "80qovujGCyNW"
   },
   "source": [
    "# Load in the data"
   ]
  },
  {
   "cell_type": "code",
   "execution_count": null,
   "metadata": {
    "colab": {
     "base_uri": "https://localhost:8080/"
    },
    "executionInfo": {
     "elapsed": 799,
     "status": "ok",
     "timestamp": 1718678207284,
     "user": {
      "displayName": "zeeshan ahmad",
      "userId": "09790783261567949831"
     },
     "user_tz": 240
    },
    "id": "F6arCxP1m-n4",
    "outputId": "6dfd4718-42de-4a4d-e313-88452bb191ee"
   },
   "outputs": [
    {
     "name": "stdout",
     "output_type": "stream",
     "text": [
      "x_train.shape: (60000, 28, 28)\n"
     ]
    }
   ],
   "source": [
    "mnist = tf.keras.datasets.mnist\n",
    "(x_train, y_train), _ = mnist.load_data()\n",
    "print(\"x_train.shape:\", x_train.shape)"
   ]
  },
  {
   "cell_type": "markdown",
   "metadata": {
    "id": "ka48lofICyNX"
   },
   "source": [
    "# Extract first 10000 samples"
   ]
  },
  {
   "cell_type": "code",
   "execution_count": null,
   "metadata": {
    "id": "IQs256LICyNY"
   },
   "outputs": [],
   "source": [
    "X  = x_train[0:10000, :]"
   ]
  },
  {
   "cell_type": "code",
   "execution_count": null,
   "metadata": {
    "colab": {
     "base_uri": "https://localhost:8080/"
    },
    "executionInfo": {
     "elapsed": 6,
     "status": "ok",
     "timestamp": 1718678207284,
     "user": {
      "displayName": "zeeshan ahmad",
      "userId": "09790783261567949831"
     },
     "user_tz": 240
    },
    "id": "XxBzR9GUCyNY",
    "outputId": "c02294a6-1260-4942-9b93-dec582a139b9"
   },
   "outputs": [
    {
     "data": {
      "text/plain": [
       "(10000, 28, 28)"
      ]
     },
     "execution_count": 4,
     "metadata": {},
     "output_type": "execute_result"
    }
   ],
   "source": [
    "X.shape # N x T x D"
   ]
  },
  {
   "cell_type": "code",
   "execution_count": null,
   "metadata": {
    "id": "R5MrfraECyNY"
   },
   "outputs": [],
   "source": [
    "y = y_train[0:10000]"
   ]
  },
  {
   "cell_type": "code",
   "execution_count": null,
   "metadata": {
    "colab": {
     "base_uri": "https://localhost:8080/"
    },
    "executionInfo": {
     "elapsed": 5,
     "status": "ok",
     "timestamp": 1718678207284,
     "user": {
      "displayName": "zeeshan ahmad",
      "userId": "09790783261567949831"
     },
     "user_tz": 240
    },
    "id": "lBuD2HM9CyNZ",
    "outputId": "0161fca7-fe5e-46ce-beec-85ed91d016c7"
   },
   "outputs": [
    {
     "data": {
      "text/plain": [
       "(10000,)"
      ]
     },
     "execution_count": 6,
     "metadata": {},
     "output_type": "execute_result"
    }
   ],
   "source": [
    "y.shape"
   ]
  },
  {
   "cell_type": "markdown",
   "metadata": {
    "id": "BB6wh8cCCyNZ"
   },
   "source": [
    "# Perform Train test split"
   ]
  },
  {
   "cell_type": "code",
   "execution_count": null,
   "metadata": {
    "id": "tphoONFHCyNZ"
   },
   "outputs": [],
   "source": [
    "train_data, test_data, train_labels, test_labels = train_test_split(X, y, test_size = 0.1)"
   ]
  },
  {
   "cell_type": "code",
   "execution_count": null,
   "metadata": {
    "colab": {
     "base_uri": "https://localhost:8080/"
    },
    "executionInfo": {
     "elapsed": 3,
     "status": "ok",
     "timestamp": 1718678207284,
     "user": {
      "displayName": "zeeshan ahmad",
      "userId": "09790783261567949831"
     },
     "user_tz": 240
    },
    "id": "T3iZZTKICyNa",
    "outputId": "4e448ecc-1f2b-4c7c-8822-9372772f795e"
   },
   "outputs": [
    {
     "data": {
      "text/plain": [
       "(28, 28)"
      ]
     },
     "execution_count": 8,
     "metadata": {},
     "output_type": "execute_result"
    }
   ],
   "source": [
    "train_data[0].shape  # shape of the first sample of train_data"
   ]
  },
  {
   "cell_type": "markdown",
   "metadata": {
    "id": "McJ7DYKxCyNa"
   },
   "source": [
    "# Create the Model"
   ]
  },
  {
   "cell_type": "code",
   "execution_count": 4,
   "metadata": {
    "executionInfo": {
     "elapsed": 157,
     "status": "ok",
     "timestamp": 1718733362823,
     "user": {
      "displayName": "zeeshan ahmad",
      "userId": "09790783261567949831"
     },
     "user_tz": 240
    },
    "id": "YWa_0htdCyNa"
   },
   "outputs": [],
   "source": [
    "i = Input(train_data[0].shape) # T x D. Here  T x D = 28 x 28\n",
    "Bi_LSTM = Bidirectional(LSTM(128, return_sequences = True))\n",
    "X = Bi_LSTM(i)\n",
    "X = GlobalMaxPooling1D()(X)\n",
    "X = Dense(10, activation='softmax')(X)\n",
    "model = Model(i, X)"
   ]
  },
  {
   "cell_type": "code",
   "execution_count": null,
   "metadata": {
    "id": "feHv7b-VnDhJ"
   },
   "outputs": [],
   "source": [
    "# i = Input(train_data[0].shape) # T x D. Here  T x D = 28 x 28\n",
    "# x = LSTM(128)(i)\n",
    "# x = Dense(10, activation='softmax')(x)\n",
    "# model = Model(i, x)"
   ]
  },
  {
   "cell_type": "markdown",
   "metadata": {
    "id": "h87dQfhwCyNb"
   },
   "source": [
    "# Compile the Model"
   ]
  },
  {
   "cell_type": "code",
   "execution_count": null,
   "metadata": {
    "id": "KkhuW-IcnGSP"
   },
   "outputs": [],
   "source": [
    "model.compile(optimizer='adam', loss='sparse_categorical_crossentropy', metrics=['accuracy'])"
   ]
  },
  {
   "cell_type": "markdown",
   "metadata": {
    "id": "rM0ME65gCyNb"
   },
   "source": [
    "# Train the Model"
   ]
  },
  {
   "cell_type": "code",
   "execution_count": null,
   "metadata": {
    "colab": {
     "base_uri": "https://localhost:8080/"
    },
    "executionInfo": {
     "elapsed": 1287257,
     "status": "ok",
     "timestamp": 1718679495872,
     "user": {
      "displayName": "zeeshan ahmad",
      "userId": "09790783261567949831"
     },
     "user_tz": 240
    },
    "id": "Z3iJDoM8CyNb",
    "outputId": "c244b7b7-c9f6-43de-e34c-82f7f6b329ed"
   },
   "outputs": [
    {
     "name": "stdout",
     "output_type": "stream",
     "text": [
      "Epoch 1/50\n",
      "282/282 [==============================] - 34s 101ms/step - loss: 1.0671 - accuracy: 0.7050 - val_loss: 0.4955 - val_accuracy: 0.8670\n",
      "Epoch 2/50\n",
      "282/282 [==============================] - 23s 81ms/step - loss: 0.4092 - accuracy: 0.8863 - val_loss: 0.3450 - val_accuracy: 0.8980\n",
      "Epoch 3/50\n",
      "282/282 [==============================] - 26s 91ms/step - loss: 0.2903 - accuracy: 0.9170 - val_loss: 0.3275 - val_accuracy: 0.8990\n",
      "Epoch 4/50\n",
      "282/282 [==============================] - 26s 91ms/step - loss: 0.2416 - accuracy: 0.9278 - val_loss: 0.2635 - val_accuracy: 0.9200\n",
      "Epoch 5/50\n",
      "282/282 [==============================] - 23s 82ms/step - loss: 0.1987 - accuracy: 0.9404 - val_loss: 0.2401 - val_accuracy: 0.9250\n",
      "Epoch 6/50\n",
      "282/282 [==============================] - 24s 85ms/step - loss: 0.1686 - accuracy: 0.9492 - val_loss: 0.2128 - val_accuracy: 0.9250\n",
      "Epoch 7/50\n",
      "282/282 [==============================] - 25s 89ms/step - loss: 0.1490 - accuracy: 0.9566 - val_loss: 0.2357 - val_accuracy: 0.9200\n",
      "Epoch 8/50\n",
      "282/282 [==============================] - 26s 94ms/step - loss: 0.1393 - accuracy: 0.9584 - val_loss: 0.2449 - val_accuracy: 0.9230\n",
      "Epoch 9/50\n",
      "282/282 [==============================] - 24s 84ms/step - loss: 0.1236 - accuracy: 0.9644 - val_loss: 0.2494 - val_accuracy: 0.9180\n",
      "Epoch 10/50\n",
      "282/282 [==============================] - 26s 91ms/step - loss: 0.1049 - accuracy: 0.9681 - val_loss: 0.2210 - val_accuracy: 0.9350\n",
      "Epoch 11/50\n",
      "282/282 [==============================] - 22s 76ms/step - loss: 0.1048 - accuracy: 0.9704 - val_loss: 0.2020 - val_accuracy: 0.9300\n",
      "Epoch 12/50\n",
      "282/282 [==============================] - 24s 86ms/step - loss: 0.1043 - accuracy: 0.9679 - val_loss: 0.2030 - val_accuracy: 0.9350\n",
      "Epoch 13/50\n",
      "282/282 [==============================] - 26s 94ms/step - loss: 0.0868 - accuracy: 0.9734 - val_loss: 0.2057 - val_accuracy: 0.9380\n",
      "Epoch 14/50\n",
      "282/282 [==============================] - 23s 80ms/step - loss: 0.0744 - accuracy: 0.9791 - val_loss: 0.1838 - val_accuracy: 0.9480\n",
      "Epoch 15/50\n",
      "282/282 [==============================] - 25s 88ms/step - loss: 0.0736 - accuracy: 0.9776 - val_loss: 0.2085 - val_accuracy: 0.9280\n",
      "Epoch 16/50\n",
      "282/282 [==============================] - 27s 97ms/step - loss: 0.0892 - accuracy: 0.9707 - val_loss: 0.2142 - val_accuracy: 0.9330\n",
      "Epoch 17/50\n",
      "282/282 [==============================] - 23s 80ms/step - loss: 0.0654 - accuracy: 0.9799 - val_loss: 0.2007 - val_accuracy: 0.9410\n",
      "Epoch 18/50\n",
      "282/282 [==============================] - 25s 89ms/step - loss: 0.0587 - accuracy: 0.9817 - val_loss: 0.1748 - val_accuracy: 0.9420\n",
      "Epoch 19/50\n",
      "282/282 [==============================] - 25s 89ms/step - loss: 0.0495 - accuracy: 0.9859 - val_loss: 0.1914 - val_accuracy: 0.9460\n",
      "Epoch 20/50\n",
      "282/282 [==============================] - 23s 82ms/step - loss: 0.0511 - accuracy: 0.9847 - val_loss: 0.2027 - val_accuracy: 0.9450\n",
      "Epoch 21/50\n",
      "282/282 [==============================] - 25s 89ms/step - loss: 0.0463 - accuracy: 0.9862 - val_loss: 0.1701 - val_accuracy: 0.9530\n",
      "Epoch 22/50\n",
      "282/282 [==============================] - 25s 88ms/step - loss: 0.0483 - accuracy: 0.9852 - val_loss: 0.1967 - val_accuracy: 0.9330\n",
      "Epoch 23/50\n",
      "282/282 [==============================] - 23s 83ms/step - loss: 0.0461 - accuracy: 0.9862 - val_loss: 0.1838 - val_accuracy: 0.9400\n",
      "Epoch 24/50\n",
      "282/282 [==============================] - 26s 92ms/step - loss: 0.0416 - accuracy: 0.9876 - val_loss: 0.1623 - val_accuracy: 0.9490\n",
      "Epoch 25/50\n",
      "282/282 [==============================] - 25s 89ms/step - loss: 0.0399 - accuracy: 0.9887 - val_loss: 0.2104 - val_accuracy: 0.9380\n",
      "Epoch 26/50\n",
      "282/282 [==============================] - 23s 81ms/step - loss: 0.0452 - accuracy: 0.9868 - val_loss: 0.2065 - val_accuracy: 0.9360\n",
      "Epoch 27/50\n",
      "282/282 [==============================] - 25s 90ms/step - loss: 0.0450 - accuracy: 0.9867 - val_loss: 0.2107 - val_accuracy: 0.9360\n",
      "Epoch 28/50\n",
      "282/282 [==============================] - 25s 89ms/step - loss: 0.0417 - accuracy: 0.9869 - val_loss: 0.1723 - val_accuracy: 0.9470\n",
      "Epoch 29/50\n",
      "282/282 [==============================] - 23s 82ms/step - loss: 0.0323 - accuracy: 0.9907 - val_loss: 0.1846 - val_accuracy: 0.9480\n",
      "Epoch 30/50\n",
      "282/282 [==============================] - 25s 88ms/step - loss: 0.0286 - accuracy: 0.9930 - val_loss: 0.2158 - val_accuracy: 0.9370\n",
      "Epoch 31/50\n",
      "282/282 [==============================] - 27s 96ms/step - loss: 0.0231 - accuracy: 0.9948 - val_loss: 0.1902 - val_accuracy: 0.9470\n",
      "Epoch 32/50\n",
      "282/282 [==============================] - 23s 83ms/step - loss: 0.0225 - accuracy: 0.9940 - val_loss: 0.2255 - val_accuracy: 0.9440\n",
      "Epoch 33/50\n",
      "282/282 [==============================] - 25s 89ms/step - loss: 0.0230 - accuracy: 0.9937 - val_loss: 0.2396 - val_accuracy: 0.9350\n",
      "Epoch 34/50\n",
      "282/282 [==============================] - 25s 89ms/step - loss: 0.0469 - accuracy: 0.9853 - val_loss: 0.2245 - val_accuracy: 0.9410\n",
      "Epoch 35/50\n",
      "282/282 [==============================] - 24s 87ms/step - loss: 0.0416 - accuracy: 0.9877 - val_loss: 0.2143 - val_accuracy: 0.9370\n",
      "Epoch 36/50\n",
      "282/282 [==============================] - 23s 82ms/step - loss: 0.0308 - accuracy: 0.9899 - val_loss: 0.2180 - val_accuracy: 0.9410\n",
      "Epoch 37/50\n",
      "282/282 [==============================] - 25s 87ms/step - loss: 0.0312 - accuracy: 0.9904 - val_loss: 0.1917 - val_accuracy: 0.9510\n",
      "Epoch 38/50\n",
      "282/282 [==============================] - 25s 89ms/step - loss: 0.0306 - accuracy: 0.9898 - val_loss: 0.2311 - val_accuracy: 0.9440\n",
      "Epoch 39/50\n",
      "282/282 [==============================] - 25s 87ms/step - loss: 0.0301 - accuracy: 0.9912 - val_loss: 0.2354 - val_accuracy: 0.9340\n",
      "Epoch 40/50\n",
      "282/282 [==============================] - 25s 88ms/step - loss: 0.0255 - accuracy: 0.9918 - val_loss: 0.2216 - val_accuracy: 0.9410\n",
      "Epoch 41/50\n",
      "282/282 [==============================] - 26s 92ms/step - loss: 0.0306 - accuracy: 0.9900 - val_loss: 0.2468 - val_accuracy: 0.9370\n",
      "Epoch 42/50\n",
      "282/282 [==============================] - 23s 82ms/step - loss: 0.0292 - accuracy: 0.9917 - val_loss: 0.2516 - val_accuracy: 0.9360\n",
      "Epoch 43/50\n",
      "282/282 [==============================] - 26s 91ms/step - loss: 0.0289 - accuracy: 0.9923 - val_loss: 0.2076 - val_accuracy: 0.9470\n",
      "Epoch 44/50\n",
      "282/282 [==============================] - 25s 89ms/step - loss: 0.0204 - accuracy: 0.9938 - val_loss: 0.1927 - val_accuracy: 0.9500\n",
      "Epoch 45/50\n",
      "282/282 [==============================] - 23s 82ms/step - loss: 0.0208 - accuracy: 0.9938 - val_loss: 0.2244 - val_accuracy: 0.9420\n",
      "Epoch 46/50\n",
      "282/282 [==============================] - 26s 93ms/step - loss: 0.0244 - accuracy: 0.9922 - val_loss: 0.2633 - val_accuracy: 0.9350\n",
      "Epoch 47/50\n",
      "282/282 [==============================] - 25s 87ms/step - loss: 0.0274 - accuracy: 0.9914 - val_loss: 0.2058 - val_accuracy: 0.9460\n",
      "Epoch 48/50\n",
      "282/282 [==============================] - 25s 89ms/step - loss: 0.0199 - accuracy: 0.9931 - val_loss: 0.2018 - val_accuracy: 0.9450\n",
      "Epoch 49/50\n",
      "282/282 [==============================] - 23s 80ms/step - loss: 0.0185 - accuracy: 0.9956 - val_loss: 0.1965 - val_accuracy: 0.9410\n",
      "Epoch 50/50\n",
      "282/282 [==============================] - 26s 92ms/step - loss: 0.0123 - accuracy: 0.9977 - val_loss: 0.1798 - val_accuracy: 0.9490\n"
     ]
    }
   ],
   "source": [
    "hist = model.fit(train_data, train_labels, validation_data=(test_data, test_labels), epochs = 50)"
   ]
  },
  {
   "cell_type": "markdown",
   "metadata": {
    "id": "jZ-YLE22CyNb"
   },
   "source": [
    "# Visualize the Model Performance"
   ]
  },
  {
   "cell_type": "code",
   "execution_count": null,
   "metadata": {
    "id": "suVKp9IdnJTv"
   },
   "outputs": [],
   "source": [
    "trainAcc = [100 * x for x in hist.history['accuracy']]\n",
    "testAcc = [100 * x for x in hist.history['val_accuracy']]"
   ]
  },
  {
   "cell_type": "code",
   "execution_count": null,
   "metadata": {
    "colab": {
     "base_uri": "https://localhost:8080/",
     "height": 454
    },
    "executionInfo": {
     "elapsed": 666,
     "status": "ok",
     "timestamp": 1718679496536,
     "user": {
      "displayName": "zeeshan ahmad",
      "userId": "09790783261567949831"
     },
     "user_tz": 240
    },
    "id": "mVscPk8InMdH",
    "outputId": "b67eb38a-fed9-41f8-bb4a-95dbd9ea7314"
   },
   "outputs": [
    {
     "data": {
      "image/png": "[encoded data removed]",
      "text/plain": [
       "<Figure size 1800x600 with 2 Axes>"
      ]
     },
     "metadata": {},
     "output_type": "display_data"
    }
   ],
   "source": [
    "fig,ax = plt.subplots(1,2,figsize=(18,6))\n",
    "\n",
    "ax[0].plot(hist.history['loss'], 'g', lw = 3, label = 'Train')\n",
    "ax[0].set_xlabel('Epochs', fontsize = 15)\n",
    "ax[0].set_ylabel('Loss', fontsize = 15)\n",
    "ax[0].legend(fontsize = 15)\n",
    "ax[0].set_title('Training Loss', fontsize = 15)\n",
    "\n",
    "\n",
    "ax[1].plot(trainAcc, label ='Train', lw = 3)\n",
    "ax[1].plot(testAcc, label ='Test', lw = 3)\n",
    "ax[1].set_xlabel('Epochs', fontsize = 15)\n",
    "ax[1].set_ylabel('Accuracy (%)', fontsize = 15)\n",
    "ax[1].set_ylim([10,110])\n",
    "ax[1].set_title(f'Train Accuracy: {trainAcc[-1]:.2f}% \\n Test Accuracy: {testAcc[-1]:.2f}%', fontsize = 15)\n",
    "ax[1].legend(fontsize = 15)\n",
    "\n",
    "plt.show()"
   ]
  },
  {
   "cell_type": "code",
   "execution_count": null,
   "metadata": {
    "id": "TjMNAeQJCyNc"
   },
   "outputs": [],
   "source": []
  }
 ],
 "metadata": {
  "colab": {
   "provenance": []
  },
  "kernelspec": {
   "display_name": "Python 3",
   "language": "python",
   "name": "python3"
  },
  "language_info": {
   "codemirror_mode": {
    "name": "ipython",
    "version": 3
   },
   "file_extension": ".py",
   "mimetype": "text/x-python",
   "name": "python",
   "nbconvert_exporter": "python",
   "pygments_lexer": "ipython3",
   "version": "3.8.5"
  }
 },
 "nbformat": 4,
 "nbformat_minor": 1
}
