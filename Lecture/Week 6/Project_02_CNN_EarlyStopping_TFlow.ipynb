{
 "cells": [
  {
   "cell_type": "markdown",
   "metadata": {
    "id": "oa7E1eb6UmGw"
   },
   "source": [
    "## Perform standard imports"
   ]
  },
  {
   "cell_type": "code",
   "execution_count": 1,
   "metadata": {
    "colab": {
     "base_uri": "https://localhost:8080/"
    },
    "executionInfo": {
     "elapsed": 19850,
     "status": "ok",
     "timestamp": 1704230363407,
     "user": {
      "displayName": "zeeshan ahmad",
      "userId": "09790783261567949831"
     },
     "user_tz": 300
    },
    "id": "SHAT-gZOVECg",
    "outputId": "c6d702d3-04f8-4758-a042-c81c36940460"
   },
   "outputs": [
    {
     "name": "stdout",
     "output_type": "stream",
     "text": [
      "Collecting split-folders\n",
      "  Using cached split_folders-0.5.1-py3-none-any.whl.metadata (6.2 kB)\n",
      "Using cached split_folders-0.5.1-py3-none-any.whl (8.4 kB)\n",
      "Installing collected packages: split-folders\n",
      "Successfully installed split-folders-0.5.1\n"
     ]
    }
   ],
   "source": [
    "! pip install split-folders"
   ]
  },
  {
   "cell_type": "code",
   "execution_count": 21,
   "metadata": {
    "id": "KoxB1QxeUmG0"
   },
   "outputs": [],
   "source": [
    "import tensorflow as tf\n",
    "from keras.models import Sequential\n",
    "from keras.layers import Activation, Dropout, Flatten, Dense, Conv2D, MaxPooling2D\n",
    "from tensorflow.keras.preprocessing.image import ImageDataGenerator\n",
    "import splitfolders\n",
    "import numpy as np\n",
    "import pandas as pd\n",
    "import matplotlib.pyplot as plt\n",
    "from matplotlib import style\n",
    "style.use('dark_background')\n",
    "\n"
   ]
  },
  {
   "cell_type": "code",
   "execution_count": 2,
   "metadata": {},
   "outputs": [
    {
     "name": "stdout",
     "output_type": "stream",
     "text": [
      "Collecting tensorflow\n",
      "  Downloading tensorflow-2.19.0-cp312-cp312-win_amd64.whl.metadata (4.1 kB)\n",
      "Collecting absl-py>=1.0.0 (from tensorflow)\n",
      "  Using cached absl_py-2.3.0-py3-none-any.whl.metadata (2.4 kB)\n",
      "Collecting astunparse>=1.6.0 (from tensorflow)\n",
      "  Using cached astunparse-1.6.3-py2.py3-none-any.whl.metadata (4.4 kB)\n",
      "Collecting flatbuffers>=24.3.25 (from tensorflow)\n",
      "  Using cached flatbuffers-25.2.10-py2.py3-none-any.whl.metadata (875 bytes)\n",
      "Collecting gast!=0.5.0,!=0.5.1,!=0.5.2,>=0.2.1 (from tensorflow)\n",
      "  Using cached gast-0.6.0-py3-none-any.whl.metadata (1.3 kB)\n",
      "Collecting google-pasta>=0.1.1 (from tensorflow)\n",
      "  Using cached google_pasta-0.2.0-py3-none-any.whl.metadata (814 bytes)\n",
      "Collecting libclang>=13.0.0 (from tensorflow)\n",
      "  Using cached libclang-18.1.1-py2.py3-none-win_amd64.whl.metadata (5.3 kB)\n",
      "Collecting opt-einsum>=2.3.2 (from tensorflow)\n",
      "  Using cached opt_einsum-3.4.0-py3-none-any.whl.metadata (6.3 kB)\n",
      "Requirement already satisfied: packaging in c:\\users\\danie\\anaconda3\\lib\\site-packages (from tensorflow) (24.1)\n",
      "Requirement already satisfied: protobuf!=4.21.0,!=4.21.1,!=4.21.2,!=4.21.3,!=4.21.4,!=4.21.5,<6.0.0dev,>=3.20.3 in c:\\users\\danie\\anaconda3\\lib\\site-packages (from tensorflow) (4.25.3)\n",
      "Requirement already satisfied: requests<3,>=2.21.0 in c:\\users\\danie\\anaconda3\\lib\\site-packages (from tensorflow) (2.32.3)\n",
      "Requirement already satisfied: setuptools in c:\\users\\danie\\anaconda3\\lib\\site-packages (from tensorflow) (75.1.0)\n",
      "Requirement already satisfied: six>=1.12.0 in c:\\users\\danie\\anaconda3\\lib\\site-packages (from tensorflow) (1.16.0)\n",
      "Collecting termcolor>=1.1.0 (from tensorflow)\n",
      "  Using cached termcolor-3.1.0-py3-none-any.whl.metadata (6.4 kB)\n",
      "Requirement already satisfied: typing-extensions>=3.6.6 in c:\\users\\danie\\anaconda3\\lib\\site-packages (from tensorflow) (4.11.0)\n",
      "Requirement already satisfied: wrapt>=1.11.0 in c:\\users\\danie\\anaconda3\\lib\\site-packages (from tensorflow) (1.14.1)\n",
      "Collecting grpcio<2.0,>=1.24.3 (from tensorflow)\n",
      "  Downloading grpcio-1.73.0-cp312-cp312-win_amd64.whl.metadata (4.0 kB)\n",
      "Collecting tensorboard~=2.19.0 (from tensorflow)\n",
      "  Using cached tensorboard-2.19.0-py3-none-any.whl.metadata (1.8 kB)\n",
      "Collecting keras>=3.5.0 (from tensorflow)\n",
      "  Using cached keras-3.10.0-py3-none-any.whl.metadata (6.0 kB)\n",
      "Requirement already satisfied: numpy<2.2.0,>=1.26.0 in c:\\users\\danie\\anaconda3\\lib\\site-packages (from tensorflow) (1.26.4)\n",
      "Requirement already satisfied: h5py>=3.11.0 in c:\\users\\danie\\anaconda3\\lib\\site-packages (from tensorflow) (3.11.0)\n",
      "Collecting ml-dtypes<1.0.0,>=0.5.1 (from tensorflow)\n",
      "  Downloading ml_dtypes-0.5.1-cp312-cp312-win_amd64.whl.metadata (22 kB)\n",
      "Requirement already satisfied: wheel<1.0,>=0.23.0 in c:\\users\\danie\\anaconda3\\lib\\site-packages (from astunparse>=1.6.0->tensorflow) (0.44.0)\n",
      "Requirement already satisfied: rich in c:\\users\\danie\\anaconda3\\lib\\site-packages (from keras>=3.5.0->tensorflow) (13.7.1)\n",
      "Collecting namex (from keras>=3.5.0->tensorflow)\n",
      "  Using cached namex-0.1.0-py3-none-any.whl.metadata (322 bytes)\n",
      "Collecting optree (from keras>=3.5.0->tensorflow)\n",
      "  Downloading optree-0.16.0-cp312-cp312-win_amd64.whl.metadata (31 kB)\n",
      "Requirement already satisfied: charset-normalizer<4,>=2 in c:\\users\\danie\\anaconda3\\lib\\site-packages (from requests<3,>=2.21.0->tensorflow) (3.3.2)\n",
      "Requirement already satisfied: idna<4,>=2.5 in c:\\users\\danie\\anaconda3\\lib\\site-packages (from requests<3,>=2.21.0->tensorflow) (3.7)\n",
      "Requirement already satisfied: urllib3<3,>=1.21.1 in c:\\users\\danie\\anaconda3\\lib\\site-packages (from requests<3,>=2.21.0->tensorflow) (2.2.3)\n",
      "Requirement already satisfied: certifi>=2017.4.17 in c:\\users\\danie\\anaconda3\\lib\\site-packages (from requests<3,>=2.21.0->tensorflow) (2025.4.26)\n",
      "Requirement already satisfied: markdown>=2.6.8 in c:\\users\\danie\\anaconda3\\lib\\site-packages (from tensorboard~=2.19.0->tensorflow) (3.4.1)\n",
      "Collecting tensorboard-data-server<0.8.0,>=0.7.0 (from tensorboard~=2.19.0->tensorflow)\n",
      "  Using cached tensorboard_data_server-0.7.2-py3-none-any.whl.metadata (1.1 kB)\n",
      "Requirement already satisfied: werkzeug>=1.0.1 in c:\\users\\danie\\anaconda3\\lib\\site-packages (from tensorboard~=2.19.0->tensorflow) (3.0.3)\n",
      "Requirement already satisfied: MarkupSafe>=2.1.1 in c:\\users\\danie\\anaconda3\\lib\\site-packages (from werkzeug>=1.0.1->tensorboard~=2.19.0->tensorflow) (2.1.3)\n",
      "Requirement already satisfied: markdown-it-py>=2.2.0 in c:\\users\\danie\\anaconda3\\lib\\site-packages (from rich->keras>=3.5.0->tensorflow) (2.2.0)\n",
      "Requirement already satisfied: pygments<3.0.0,>=2.13.0 in c:\\users\\danie\\anaconda3\\lib\\site-packages (from rich->keras>=3.5.0->tensorflow) (2.15.1)\n",
      "Requirement already satisfied: mdurl~=0.1 in c:\\users\\danie\\anaconda3\\lib\\site-packages (from markdown-it-py>=2.2.0->rich->keras>=3.5.0->tensorflow) (0.1.0)\n",
      "Downloading tensorflow-2.19.0-cp312-cp312-win_amd64.whl (376.0 MB)\n",
      "   ---------------------------------------- 0.0/376.0 MB ? eta -:--:--\n",
      "   ---------------------------------------- 2.1/376.0 MB 11.8 MB/s eta 0:00:32\n",
      "   ---------------------------------------- 4.5/376.0 MB 11.7 MB/s eta 0:00:32\n",
      "    --------------------------------------- 6.8/376.0 MB 12.0 MB/s eta 0:00:31\n",
      "    --------------------------------------- 9.2/376.0 MB 11.9 MB/s eta 0:00:31\n",
      "   - -------------------------------------- 11.8/376.0 MB 11.9 MB/s eta 0:00:31\n",
      "   - -------------------------------------- 14.2/376.0 MB 11.9 MB/s eta 0:00:31\n",
      "   - -------------------------------------- 16.5/376.0 MB 11.8 MB/s eta 0:00:31\n",
      "   -- ------------------------------------- 18.9/376.0 MB 11.8 MB/s eta 0:00:31\n",
      "   -- ------------------------------------- 21.2/376.0 MB 11.9 MB/s eta 0:00:30\n",
      "   -- ------------------------------------- 23.6/376.0 MB 11.8 MB/s eta 0:00:30\n",
      "   -- ------------------------------------- 26.2/376.0 MB 11.9 MB/s eta 0:00:30\n",
      "   --- ------------------------------------ 28.6/376.0 MB 11.8 MB/s eta 0:00:30\n",
      "   --- ------------------------------------ 30.9/376.0 MB 11.8 MB/s eta 0:00:30\n",
      "   --- ------------------------------------ 33.3/376.0 MB 11.9 MB/s eta 0:00:29\n",
      "   --- ------------------------------------ 35.7/376.0 MB 11.9 MB/s eta 0:00:29\n",
      "   ---- ----------------------------------- 38.0/376.0 MB 11.8 MB/s eta 0:00:29\n",
      "   ---- ----------------------------------- 40.6/376.0 MB 11.9 MB/s eta 0:00:29\n",
      "   ---- ----------------------------------- 43.0/376.0 MB 11.8 MB/s eta 0:00:29\n",
      "   ---- ----------------------------------- 45.4/376.0 MB 11.9 MB/s eta 0:00:28\n",
      "   ----- ---------------------------------- 47.7/376.0 MB 11.9 MB/s eta 0:00:28\n",
      "   ----- ---------------------------------- 50.1/376.0 MB 11.9 MB/s eta 0:00:28\n",
      "   ----- ---------------------------------- 52.7/376.0 MB 11.9 MB/s eta 0:00:28\n",
      "   ----- ---------------------------------- 55.1/376.0 MB 11.8 MB/s eta 0:00:28\n",
      "   ------ --------------------------------- 57.4/376.0 MB 11.8 MB/s eta 0:00:27\n",
      "   ------ --------------------------------- 59.8/376.0 MB 11.9 MB/s eta 0:00:27\n",
      "   ------ --------------------------------- 62.1/376.0 MB 11.9 MB/s eta 0:00:27\n",
      "   ------ --------------------------------- 64.5/376.0 MB 11.8 MB/s eta 0:00:27\n",
      "   ------- -------------------------------- 66.8/376.0 MB 11.8 MB/s eta 0:00:27\n",
      "   ------- -------------------------------- 69.5/376.0 MB 11.8 MB/s eta 0:00:26\n",
      "   ------- -------------------------------- 71.8/376.0 MB 11.8 MB/s eta 0:00:26\n",
      "   ------- -------------------------------- 74.4/376.0 MB 11.8 MB/s eta 0:00:26\n",
      "   -------- ------------------------------- 76.8/376.0 MB 11.9 MB/s eta 0:00:26\n",
      "   -------- ------------------------------- 79.2/376.0 MB 11.9 MB/s eta 0:00:26\n",
      "   -------- ------------------------------- 81.5/376.0 MB 11.8 MB/s eta 0:00:25\n",
      "   -------- ------------------------------- 83.9/376.0 MB 11.8 MB/s eta 0:00:25\n",
      "   --------- ------------------------------ 86.2/376.0 MB 11.9 MB/s eta 0:00:25\n",
      "   --------- ------------------------------ 88.9/376.0 MB 11.8 MB/s eta 0:00:25\n",
      "   --------- ------------------------------ 91.2/376.0 MB 11.9 MB/s eta 0:00:25\n",
      "   --------- ------------------------------ 93.8/376.0 MB 11.8 MB/s eta 0:00:24\n",
      "   ---------- ----------------------------- 96.2/376.0 MB 11.9 MB/s eta 0:00:24\n",
      "   ---------- ----------------------------- 98.6/376.0 MB 11.8 MB/s eta 0:00:24\n",
      "   ---------- ---------------------------- 100.9/376.0 MB 11.8 MB/s eta 0:00:24\n",
      "   ---------- ---------------------------- 103.3/376.0 MB 11.9 MB/s eta 0:00:23\n",
      "   ---------- ---------------------------- 105.9/376.0 MB 11.8 MB/s eta 0:00:23\n",
      "   ----------- --------------------------- 108.5/376.0 MB 11.8 MB/s eta 0:00:23\n",
      "   ----------- --------------------------- 110.9/376.0 MB 11.8 MB/s eta 0:00:23\n",
      "   ----------- --------------------------- 113.2/376.0 MB 11.9 MB/s eta 0:00:23\n",
      "   ------------ -------------------------- 115.9/376.0 MB 11.9 MB/s eta 0:00:22\n",
      "   ------------ -------------------------- 118.2/376.0 MB 11.9 MB/s eta 0:00:22\n",
      "   ------------ -------------------------- 120.6/376.0 MB 11.8 MB/s eta 0:00:22\n",
      "   ------------ -------------------------- 123.2/376.0 MB 11.9 MB/s eta 0:00:22\n",
      "   ------------- ------------------------- 125.6/376.0 MB 11.8 MB/s eta 0:00:22\n",
      "   ------------- ------------------------- 127.9/376.0 MB 11.8 MB/s eta 0:00:21\n",
      "   ------------- ------------------------- 130.3/376.0 MB 11.9 MB/s eta 0:00:21\n",
      "   ------------- ------------------------- 132.6/376.0 MB 11.8 MB/s eta 0:00:21\n",
      "   -------------- ------------------------ 135.0/376.0 MB 11.8 MB/s eta 0:00:21\n",
      "   -------------- ------------------------ 137.4/376.0 MB 11.8 MB/s eta 0:00:21\n",
      "   -------------- ------------------------ 140.0/376.0 MB 11.8 MB/s eta 0:00:20\n",
      "   -------------- ------------------------ 142.3/376.0 MB 11.8 MB/s eta 0:00:20\n",
      "   --------------- ----------------------- 145.0/376.0 MB 11.8 MB/s eta 0:00:20\n",
      "   --------------- ----------------------- 147.1/376.0 MB 11.8 MB/s eta 0:00:20\n",
      "   --------------- ----------------------- 149.7/376.0 MB 11.8 MB/s eta 0:00:20\n",
      "   --------------- ----------------------- 152.0/376.0 MB 11.8 MB/s eta 0:00:19\n",
      "   ---------------- ---------------------- 154.4/376.0 MB 11.8 MB/s eta 0:00:19\n",
      "   ---------------- ---------------------- 157.0/376.0 MB 11.8 MB/s eta 0:00:19\n",
      "   ---------------- ---------------------- 159.4/376.0 MB 11.8 MB/s eta 0:00:19\n",
      "   ---------------- ---------------------- 161.7/376.0 MB 11.8 MB/s eta 0:00:19\n",
      "   ----------------- --------------------- 164.1/376.0 MB 11.8 MB/s eta 0:00:18\n",
      "   ----------------- --------------------- 166.5/376.0 MB 11.8 MB/s eta 0:00:18\n",
      "   ----------------- --------------------- 169.1/376.0 MB 11.8 MB/s eta 0:00:18\n",
      "   ----------------- --------------------- 171.4/376.0 MB 11.8 MB/s eta 0:00:18\n",
      "   ------------------ -------------------- 173.8/376.0 MB 11.8 MB/s eta 0:00:18\n",
      "   ------------------ -------------------- 176.2/376.0 MB 11.8 MB/s eta 0:00:17\n",
      "   ------------------ -------------------- 178.8/376.0 MB 11.8 MB/s eta 0:00:17\n",
      "   ------------------ -------------------- 181.1/376.0 MB 11.8 MB/s eta 0:00:17\n",
      "   ------------------- ------------------- 183.5/376.0 MB 11.8 MB/s eta 0:00:17\n",
      "   ------------------- ------------------- 186.1/376.0 MB 11.8 MB/s eta 0:00:17\n",
      "   ------------------- ------------------- 188.5/376.0 MB 11.8 MB/s eta 0:00:16\n",
      "   ------------------- ------------------- 190.8/376.0 MB 11.8 MB/s eta 0:00:16\n",
      "   -------------------- ------------------ 193.2/376.0 MB 11.8 MB/s eta 0:00:16\n",
      "   -------------------- ------------------ 195.6/376.0 MB 11.8 MB/s eta 0:00:16\n",
      "   -------------------- ------------------ 198.2/376.0 MB 11.8 MB/s eta 0:00:16\n",
      "   -------------------- ------------------ 200.5/376.0 MB 11.8 MB/s eta 0:00:15\n",
      "   --------------------- ----------------- 202.9/376.0 MB 11.8 MB/s eta 0:00:15\n",
      "   --------------------- ----------------- 205.5/376.0 MB 11.8 MB/s eta 0:00:15\n",
      "   --------------------- ----------------- 207.9/376.0 MB 11.8 MB/s eta 0:00:15\n",
      "   --------------------- ----------------- 210.2/376.0 MB 11.8 MB/s eta 0:00:15\n",
      "   ---------------------- ---------------- 212.6/376.0 MB 11.8 MB/s eta 0:00:14\n",
      "   ---------------------- ---------------- 215.0/376.0 MB 11.8 MB/s eta 0:00:14\n",
      "   ---------------------- ---------------- 217.6/376.0 MB 11.8 MB/s eta 0:00:14\n",
      "   ---------------------- ---------------- 219.9/376.0 MB 11.8 MB/s eta 0:00:14\n",
      "   ----------------------- --------------- 222.6/376.0 MB 11.8 MB/s eta 0:00:13\n",
      "   ----------------------- --------------- 224.9/376.0 MB 11.8 MB/s eta 0:00:13\n",
      "   ----------------------- --------------- 227.5/376.0 MB 11.8 MB/s eta 0:00:13\n",
      "   ----------------------- --------------- 229.9/376.0 MB 11.8 MB/s eta 0:00:13\n",
      "   ------------------------ -------------- 232.3/376.0 MB 11.8 MB/s eta 0:00:13\n",
      "   ------------------------ -------------- 234.6/376.0 MB 11.8 MB/s eta 0:00:12\n",
      "   ------------------------ -------------- 237.0/376.0 MB 11.8 MB/s eta 0:00:12\n",
      "   ------------------------ -------------- 239.6/376.0 MB 11.8 MB/s eta 0:00:12\n",
      "   ------------------------- ------------- 242.0/376.0 MB 11.8 MB/s eta 0:00:12\n",
      "   ------------------------- ------------- 244.3/376.0 MB 11.8 MB/s eta 0:00:12\n",
      "   ------------------------- ------------- 246.7/376.0 MB 11.8 MB/s eta 0:00:11\n",
      "   ------------------------- ------------- 249.0/376.0 MB 11.8 MB/s eta 0:00:11\n",
      "   -------------------------- ------------ 251.7/376.0 MB 11.8 MB/s eta 0:00:11\n",
      "   -------------------------- ------------ 254.0/376.0 MB 11.8 MB/s eta 0:00:11\n",
      "   -------------------------- ------------ 256.4/376.0 MB 11.8 MB/s eta 0:00:11\n",
      "   -------------------------- ------------ 259.0/376.0 MB 11.8 MB/s eta 0:00:10\n",
      "   --------------------------- ----------- 261.4/376.0 MB 11.8 MB/s eta 0:00:10\n",
      "   --------------------------- ----------- 263.7/376.0 MB 11.8 MB/s eta 0:00:10\n",
      "   --------------------------- ----------- 266.1/376.0 MB 11.8 MB/s eta 0:00:10\n",
      "   --------------------------- ----------- 268.4/376.0 MB 11.8 MB/s eta 0:00:10\n",
      "   ---------------------------- ---------- 270.8/376.0 MB 11.8 MB/s eta 0:00:09\n",
      "   ---------------------------- ---------- 273.4/376.0 MB 11.8 MB/s eta 0:00:09\n",
      "   ---------------------------- ---------- 275.8/376.0 MB 11.8 MB/s eta 0:00:09\n",
      "   ---------------------------- ---------- 278.4/376.0 MB 11.8 MB/s eta 0:00:09\n",
      "   ----------------------------- --------- 280.5/376.0 MB 11.8 MB/s eta 0:00:09\n",
      "   ----------------------------- --------- 282.9/376.0 MB 11.8 MB/s eta 0:00:08\n",
      "   ----------------------------- --------- 285.5/376.0 MB 11.8 MB/s eta 0:00:08\n",
      "   ----------------------------- --------- 287.8/376.0 MB 11.8 MB/s eta 0:00:08\n",
      "   ------------------------------ -------- 290.2/376.0 MB 11.8 MB/s eta 0:00:08\n",
      "   ------------------------------ -------- 292.6/376.0 MB 11.8 MB/s eta 0:00:08\n",
      "   ------------------------------ -------- 295.2/376.0 MB 11.8 MB/s eta 0:00:07\n",
      "   ------------------------------ -------- 297.8/376.0 MB 11.8 MB/s eta 0:00:07\n",
      "   ------------------------------- ------- 300.2/376.0 MB 11.8 MB/s eta 0:00:07\n",
      "   ------------------------------- ------- 302.5/376.0 MB 11.8 MB/s eta 0:00:07\n",
      "   ------------------------------- ------- 304.9/376.0 MB 11.8 MB/s eta 0:00:07\n",
      "   ------------------------------- ------- 307.2/376.0 MB 11.8 MB/s eta 0:00:06\n",
      "   -------------------------------- ------ 309.9/376.0 MB 11.8 MB/s eta 0:00:06\n",
      "   -------------------------------- ------ 312.2/376.0 MB 11.8 MB/s eta 0:00:06\n",
      "   -------------------------------- ------ 314.6/376.0 MB 11.8 MB/s eta 0:00:06\n",
      "   -------------------------------- ------ 316.9/376.0 MB 11.8 MB/s eta 0:00:05\n",
      "   --------------------------------- ----- 319.6/376.0 MB 11.8 MB/s eta 0:00:05\n",
      "   --------------------------------- ----- 321.9/376.0 MB 11.8 MB/s eta 0:00:05\n",
      "   --------------------------------- ----- 324.3/376.0 MB 11.8 MB/s eta 0:00:05\n",
      "   --------------------------------- ----- 326.9/376.0 MB 11.8 MB/s eta 0:00:05\n",
      "   ---------------------------------- ---- 328.7/376.0 MB 11.8 MB/s eta 0:00:05\n",
      "   ---------------------------------- ---- 330.8/376.0 MB 11.8 MB/s eta 0:00:04\n",
      "   ---------------------------------- ---- 333.2/376.0 MB 11.8 MB/s eta 0:00:04\n",
      "   ---------------------------------- ---- 335.8/376.0 MB 11.8 MB/s eta 0:00:04\n",
      "   ----------------------------------- --- 338.2/376.0 MB 11.8 MB/s eta 0:00:04\n",
      "   ----------------------------------- --- 340.5/376.0 MB 11.8 MB/s eta 0:00:04\n",
      "   ----------------------------------- --- 342.9/376.0 MB 11.8 MB/s eta 0:00:03\n",
      "   ----------------------------------- --- 345.2/376.0 MB 11.8 MB/s eta 0:00:03\n",
      "   ------------------------------------ -- 347.9/376.0 MB 11.8 MB/s eta 0:00:03\n",
      "   ------------------------------------ -- 350.2/376.0 MB 11.8 MB/s eta 0:00:03\n",
      "   ------------------------------------ -- 352.6/376.0 MB 11.8 MB/s eta 0:00:02\n",
      "   ------------------------------------ -- 354.9/376.0 MB 11.8 MB/s eta 0:00:02\n",
      "   ------------------------------------- - 357.3/376.0 MB 11.8 MB/s eta 0:00:02\n",
      "   ------------------------------------- - 359.9/376.0 MB 11.8 MB/s eta 0:00:02\n",
      "   ------------------------------------- - 362.3/376.0 MB 11.8 MB/s eta 0:00:02\n",
      "   ------------------------------------- - 364.6/376.0 MB 11.8 MB/s eta 0:00:01\n",
      "   --------------------------------------  367.0/376.0 MB 11.8 MB/s eta 0:00:01\n",
      "   --------------------------------------  369.6/376.0 MB 11.8 MB/s eta 0:00:01\n",
      "   --------------------------------------  372.0/376.0 MB 11.8 MB/s eta 0:00:01\n",
      "   --------------------------------------  374.3/376.0 MB 11.8 MB/s eta 0:00:01\n",
      "   --------------------------------------  375.9/376.0 MB 11.8 MB/s eta 0:00:01\n",
      "   --------------------------------------  375.9/376.0 MB 11.8 MB/s eta 0:00:01\n",
      "   --------------------------------------- 376.0/376.0 MB 11.6 MB/s eta 0:00:00\n",
      "Using cached absl_py-2.3.0-py3-none-any.whl (135 kB)\n",
      "Using cached astunparse-1.6.3-py2.py3-none-any.whl (12 kB)\n",
      "Using cached flatbuffers-25.2.10-py2.py3-none-any.whl (30 kB)\n",
      "Using cached gast-0.6.0-py3-none-any.whl (21 kB)\n",
      "Using cached google_pasta-0.2.0-py3-none-any.whl (57 kB)\n",
      "Downloading grpcio-1.73.0-cp312-cp312-win_amd64.whl (4.3 MB)\n",
      "   ---------------------------------------- 0.0/4.3 MB ? eta -:--:--\n",
      "   --------------------- ------------------ 2.4/4.3 MB 12.2 MB/s eta 0:00:01\n",
      "   ---------------------------------------- 4.3/4.3 MB 11.8 MB/s eta 0:00:00\n",
      "Using cached keras-3.10.0-py3-none-any.whl (1.4 MB)\n",
      "Using cached libclang-18.1.1-py2.py3-none-win_amd64.whl (26.4 MB)\n",
      "Downloading ml_dtypes-0.5.1-cp312-cp312-win_amd64.whl (210 kB)\n",
      "Using cached opt_einsum-3.4.0-py3-none-any.whl (71 kB)\n",
      "Using cached tensorboard-2.19.0-py3-none-any.whl (5.5 MB)\n",
      "Using cached termcolor-3.1.0-py3-none-any.whl (7.7 kB)\n",
      "Using cached tensorboard_data_server-0.7.2-py3-none-any.whl (2.4 kB)\n",
      "Using cached namex-0.1.0-py3-none-any.whl (5.9 kB)\n",
      "Downloading optree-0.16.0-cp312-cp312-win_amd64.whl (315 kB)\n",
      "Installing collected packages: namex, libclang, flatbuffers, termcolor, tensorboard-data-server, optree, opt-einsum, ml-dtypes, grpcio, google-pasta, gast, astunparse, absl-py, tensorboard, keras, tensorflow\n",
      "Successfully installed absl-py-2.3.0 astunparse-1.6.3 flatbuffers-25.2.10 gast-0.6.0 google-pasta-0.2.0 grpcio-1.73.0 keras-3.10.0 libclang-18.1.1 ml-dtypes-0.5.1 namex-0.1.0 opt-einsum-3.4.0 optree-0.16.0 tensorboard-2.19.0 tensorboard-data-server-0.7.2 tensorflow-2.19.0 termcolor-3.1.0\n"
     ]
    }
   ],
   "source": [
    "!pip install --upgrade tensorflow\n"
   ]
  },
  {
   "cell_type": "code",
   "execution_count": 22,
   "metadata": {
    "colab": {
     "base_uri": "https://localhost:8080/"
    },
    "executionInfo": {
     "elapsed": 16,
     "status": "ok",
     "timestamp": 1704230385900,
     "user": {
      "displayName": "zeeshan ahmad",
      "userId": "09790783261567949831"
     },
     "user_tz": 300
    },
    "id": "G_ZJ-fgYUmG2",
    "outputId": "d2f802e3-eba3-4c2a-bb35-cb0c34de72cf"
   },
   "outputs": [
    {
     "name": "stdout",
     "output_type": "stream",
     "text": [
      "GPU name:  []\n"
     ]
    }
   ],
   "source": [
    "print('GPU name: ', tf.config.experimental.list_physical_devices('GPU'))"
   ]
  },
  {
   "cell_type": "code",
   "execution_count": 23,
   "metadata": {},
   "outputs": [
    {
     "name": "stdout",
     "output_type": "stream",
     "text": [
      "Num GPUs Available:  0\n",
      "GPUs:  []\n"
     ]
    }
   ],
   "source": [
    "print(\"Num GPUs Available: \", len(tf.config.list_physical_devices('GPU')))\n",
    "print(\"GPUs: \", tf.config.list_physical_devices('GPU'))"
   ]
  },
  {
   "cell_type": "code",
   "execution_count": 24,
   "metadata": {
    "id": "PYiGR1VAC3gi"
   },
   "outputs": [],
   "source": [
    "gpus = tf.config.experimental.list_physical_devices('GPU')\n",
    "if gpus:\n",
    "    try:\n",
    "        for gpu in gpus:\n",
    "            tf.config.experimental.set_memory_growth(gpu, True)\n",
    "            logical_gpus = tf.config.experimental.list_logical_devices('GPU')\n",
    "            print(len(gpus), \"Physical GPUs,\", len(logical_gpus), \"Logical GPUs\")\n",
    "    except RuntimeError as e:\n",
    "        print(e)"
   ]
  },
  {
   "cell_type": "code",
   "execution_count": null,
   "metadata": {
    "id": "P3a_lyAiVdwJ"
   },
   "outputs": [],
   "source": [
    "from google.colab import drive\n",
    "drive.mount('/content/drive')"
   ]
  },
  {
   "cell_type": "code",
   "execution_count": null,
   "metadata": {
    "colab": {
     "base_uri": "https://localhost:8080/"
    },
    "executionInfo": {
     "elapsed": 3,
     "status": "ok",
     "timestamp": 1704230464219,
     "user": {
      "displayName": "zeeshan ahmad",
      "userId": "09790783261567949831"
     },
     "user_tz": 300
    },
    "id": "kFGX55_UVqKP",
    "outputId": "056e8bd9-dcc5-42e4-82b5-44de1e984556"
   },
   "outputs": [
    {
     "name": "stdout",
     "output_type": "stream",
     "text": [
      "/content/drive/MyDrive/12. Convolutional Neural Network (CNN)\n"
     ]
    }
   ],
   "source": [
    "%cd /content/drive/MyDrive/Course Material/Supervised Machine Learning/Early Stopping Criterion for NN"
   ]
  },
  {
   "cell_type": "markdown",
   "metadata": {
    "id": "QsLdNQwJUmG4"
   },
   "source": [
    "## Prepare train and test sets, loaders"
   ]
  },
  {
   "cell_type": "code",
   "execution_count": 7,
   "metadata": {},
   "outputs": [
    {
     "name": "stdout",
     "output_type": "stream",
     "text": [
      "Requirement already satisfied: split-folders in c:\\users\\danie\\anaconda3\\lib\\site-packages (0.5.1)\n"
     ]
    }
   ],
   "source": [
    "!pip install split-folders\n"
   ]
  },
  {
   "cell_type": "code",
   "execution_count": 25,
   "metadata": {
    "colab": {
     "base_uri": "https://localhost:8080/"
    },
    "executionInfo": {
     "elapsed": 49607,
     "status": "ok",
     "timestamp": 1704230517901,
     "user": {
      "displayName": "zeeshan ahmad",
      "userId": "09790783261567949831"
     },
     "user_tz": 300
    },
    "id": "COC1aJtnUmG5",
    "outputId": "48c7aac0-6ceb-4959-9fdd-267ea9f9840f",
    "scrolled": true
   },
   "outputs": [
    {
     "name": "stderr",
     "output_type": "stream",
     "text": [
      "Copying files: 2001 files [00:00, 2294.72 files/s]\n"
     ]
    }
   ],
   "source": [
    "import os\n",
    "import splitfolders\n",
    "\n",
    "# Set your local path to the folder containing Circle_Cross\n",
    "base_path = r\"C:\\Users\\danie\\Documents\\Humber\\Advanced-Deep-Learning\\Lecture\\Week 6\\Circle_Cross\"\n",
    "input_folder = os.path.join(base_path, \"Circle_Cross\")\n",
    "output_folder = os.path.join(base_path, \"Train_Test\")\n",
    "\n",
    "splitfolders.ratio(\"Circle_Cross\", output=\"Train_Test\",\n",
    "    seed=1337, ratio=(.8, .2), group_prefix=None, move=False) # default values"
   ]
  },
  {
   "cell_type": "markdown",
   "metadata": {
    "id": "APy6iEtOCor4"
   },
   "source": [
    "# Creating train and test data generators"
   ]
  },
  {
   "cell_type": "code",
   "execution_count": 26,
   "metadata": {
    "id": "RPrnvZiFUmG5"
   },
   "outputs": [],
   "source": [
    "train_datagen = ImageDataGenerator(rescale = 1./255)\n",
    "\n",
    "test_datagen = ImageDataGenerator(rescale = 1./255)"
   ]
  },
  {
   "cell_type": "code",
   "execution_count": 27,
   "metadata": {
    "id": "kKeZDmqDUmG6"
   },
   "outputs": [],
   "source": [
    "num_classes = 2\n",
    "img_shape = (116,116,3)\n",
    "batch_size = 32"
   ]
  },
  {
   "cell_type": "markdown",
   "metadata": {
    "id": "re0P17MqUmG6"
   },
   "source": [
    "## Creating Training and Testing Datasets\n"
   ]
  },
  {
   "cell_type": "code",
   "execution_count": 28,
   "metadata": {
    "colab": {
     "base_uri": "https://localhost:8080/"
    },
    "executionInfo": {
     "elapsed": 175,
     "status": "ok",
     "timestamp": 1704230526606,
     "user": {
      "displayName": "zeeshan ahmad",
      "userId": "09790783261567949831"
     },
     "user_tz": 300
    },
    "id": "n_nxag5hUmG7",
    "outputId": "6abac59a-322c-4007-e415-dd0e2c353a30"
   },
   "outputs": [
    {
     "name": "stdout",
     "output_type": "stream",
     "text": [
      "Found 1599 images belonging to 2 classes.\n"
     ]
    }
   ],
   "source": [
    "training_set = train_datagen.flow_from_directory('Train_Test/train',\n",
    "                                                 target_size = (116,116),\n",
    "                                                 class_mode='binary',\n",
    "                                                 shuffle = True,\n",
    "                                                 batch_size = batch_size)\n"
   ]
  },
  {
   "cell_type": "code",
   "execution_count": 29,
   "metadata": {
    "colab": {
     "base_uri": "https://localhost:8080/"
    },
    "executionInfo": {
     "elapsed": 191,
     "status": "ok",
     "timestamp": 1704230529057,
     "user": {
      "displayName": "zeeshan ahmad",
      "userId": "09790783261567949831"
     },
     "user_tz": 300
    },
    "id": "lTxN6AjAUmG7",
    "outputId": "fa2eeb8b-d38d-4175-9e18-340542776fa3"
   },
   "outputs": [
    {
     "name": "stdout",
     "output_type": "stream",
     "text": [
      "Found 401 images belonging to 2 classes.\n"
     ]
    }
   ],
   "source": [
    "test_set = train_datagen.flow_from_directory('Train_Test/val',\n",
    "                                                 target_size = (116,116),\n",
    "                                                 class_mode='binary',\n",
    "                                                 shuffle = False,\n",
    "                                                 batch_size = batch_size)\n"
   ]
  },
  {
   "cell_type": "markdown",
   "metadata": {
    "id": "FxgND91rUmG7"
   },
   "source": [
    "##  Create CNN"
   ]
  },
  {
   "cell_type": "code",
   "execution_count": 30,
   "metadata": {
    "id": "OHmVaG8elgfR"
   },
   "outputs": [
    {
     "name": "stderr",
     "output_type": "stream",
     "text": [
      "c:\\Users\\danie\\anaconda3\\Lib\\site-packages\\keras\\src\\layers\\convolutional\\base_conv.py:113: UserWarning: Do not pass an `input_shape`/`input_dim` argument to a layer. When using Sequential models, prefer using an `Input(shape)` object as the first layer in the model instead.\n",
      "  super().__init__(activity_regularizer=activity_regularizer, **kwargs)\n"
     ]
    }
   ],
   "source": [
    "model = Sequential()\n",
    "model.add(Conv2D(10 ,kernel_size = (5, 5), padding = 'SAME', input_shape = img_shape))\n",
    "model.add(Activation('relu'))\n",
    "model.add(MaxPooling2D(pool_size=(2, 2),strides = 2))\n",
    "\n",
    "model.add(Conv2D(20, (5, 5), padding='SAME')) # \"SAME\" tries to pad evenly left and right\n",
    "model.add(Activation('relu'))\n",
    "model.add(MaxPooling2D(pool_size=(2, 2),strides = 2))\n",
    "\n",
    "model.add(Flatten())\n",
    "model.add(Dense(64))\n",
    "model.add(Activation('relu'))\n",
    "model.add(Dense(1))\n",
    "model.add(Activation('sigmoid'))\n",
    "\n"
   ]
  },
  {
   "cell_type": "code",
   "execution_count": 31,
   "metadata": {
    "colab": {
     "base_uri": "https://localhost:8080/"
    },
    "executionInfo": {
     "elapsed": 160,
     "status": "ok",
     "timestamp": 1704230536997,
     "user": {
      "displayName": "zeeshan ahmad",
      "userId": "09790783261567949831"
     },
     "user_tz": 300
    },
    "id": "MGCDoAqhUmG8",
    "outputId": "44892c69-3f07-469f-ab1d-ef4befcedcf5"
   },
   "outputs": [
    {
     "data": {
      "text/html": [
       "<pre style=\"white-space:pre;overflow-x:auto;line-height:normal;font-family:Menlo,'DejaVu Sans Mono',consolas,'Courier New',monospace\"><span style=\"font-weight: bold\">Model: \"sequential_1\"</span>\n",
       "</pre>\n"
      ],
      "text/plain": [
       "\u001b[1mModel: \"sequential_1\"\u001b[0m\n"
      ]
     },
     "metadata": {},
     "output_type": "display_data"
    },
    {
     "data": {
      "text/html": [
       "<pre style=\"white-space:pre;overflow-x:auto;line-height:normal;font-family:Menlo,'DejaVu Sans Mono',consolas,'Courier New',monospace\">┏━━━━━━━━━━━━━━━━━━━━━━━━━━━━━━━━━┳━━━━━━━━━━━━━━━━━━━━━━━━┳━━━━━━━━━━━━━━━┓\n",
       "┃<span style=\"font-weight: bold\"> Layer (type)                    </span>┃<span style=\"font-weight: bold\"> Output Shape           </span>┃<span style=\"font-weight: bold\">       Param # </span>┃\n",
       "┡━━━━━━━━━━━━━━━━━━━━━━━━━━━━━━━━━╇━━━━━━━━━━━━━━━━━━━━━━━━╇━━━━━━━━━━━━━━━┩\n",
       "│ conv2d_2 (<span style=\"color: #0087ff; text-decoration-color: #0087ff\">Conv2D</span>)               │ (<span style=\"color: #00d7ff; text-decoration-color: #00d7ff\">None</span>, <span style=\"color: #00af00; text-decoration-color: #00af00\">116</span>, <span style=\"color: #00af00; text-decoration-color: #00af00\">116</span>, <span style=\"color: #00af00; text-decoration-color: #00af00\">10</span>)   │           <span style=\"color: #00af00; text-decoration-color: #00af00\">760</span> │\n",
       "├─────────────────────────────────┼────────────────────────┼───────────────┤\n",
       "│ activation_4 (<span style=\"color: #0087ff; text-decoration-color: #0087ff\">Activation</span>)       │ (<span style=\"color: #00d7ff; text-decoration-color: #00d7ff\">None</span>, <span style=\"color: #00af00; text-decoration-color: #00af00\">116</span>, <span style=\"color: #00af00; text-decoration-color: #00af00\">116</span>, <span style=\"color: #00af00; text-decoration-color: #00af00\">10</span>)   │             <span style=\"color: #00af00; text-decoration-color: #00af00\">0</span> │\n",
       "├─────────────────────────────────┼────────────────────────┼───────────────┤\n",
       "│ max_pooling2d_2 (<span style=\"color: #0087ff; text-decoration-color: #0087ff\">MaxPooling2D</span>)  │ (<span style=\"color: #00d7ff; text-decoration-color: #00d7ff\">None</span>, <span style=\"color: #00af00; text-decoration-color: #00af00\">58</span>, <span style=\"color: #00af00; text-decoration-color: #00af00\">58</span>, <span style=\"color: #00af00; text-decoration-color: #00af00\">10</span>)     │             <span style=\"color: #00af00; text-decoration-color: #00af00\">0</span> │\n",
       "├─────────────────────────────────┼────────────────────────┼───────────────┤\n",
       "│ conv2d_3 (<span style=\"color: #0087ff; text-decoration-color: #0087ff\">Conv2D</span>)               │ (<span style=\"color: #00d7ff; text-decoration-color: #00d7ff\">None</span>, <span style=\"color: #00af00; text-decoration-color: #00af00\">58</span>, <span style=\"color: #00af00; text-decoration-color: #00af00\">58</span>, <span style=\"color: #00af00; text-decoration-color: #00af00\">20</span>)     │         <span style=\"color: #00af00; text-decoration-color: #00af00\">5,020</span> │\n",
       "├─────────────────────────────────┼────────────────────────┼───────────────┤\n",
       "│ activation_5 (<span style=\"color: #0087ff; text-decoration-color: #0087ff\">Activation</span>)       │ (<span style=\"color: #00d7ff; text-decoration-color: #00d7ff\">None</span>, <span style=\"color: #00af00; text-decoration-color: #00af00\">58</span>, <span style=\"color: #00af00; text-decoration-color: #00af00\">58</span>, <span style=\"color: #00af00; text-decoration-color: #00af00\">20</span>)     │             <span style=\"color: #00af00; text-decoration-color: #00af00\">0</span> │\n",
       "├─────────────────────────────────┼────────────────────────┼───────────────┤\n",
       "│ max_pooling2d_3 (<span style=\"color: #0087ff; text-decoration-color: #0087ff\">MaxPooling2D</span>)  │ (<span style=\"color: #00d7ff; text-decoration-color: #00d7ff\">None</span>, <span style=\"color: #00af00; text-decoration-color: #00af00\">29</span>, <span style=\"color: #00af00; text-decoration-color: #00af00\">29</span>, <span style=\"color: #00af00; text-decoration-color: #00af00\">20</span>)     │             <span style=\"color: #00af00; text-decoration-color: #00af00\">0</span> │\n",
       "├─────────────────────────────────┼────────────────────────┼───────────────┤\n",
       "│ flatten_1 (<span style=\"color: #0087ff; text-decoration-color: #0087ff\">Flatten</span>)             │ (<span style=\"color: #00d7ff; text-decoration-color: #00d7ff\">None</span>, <span style=\"color: #00af00; text-decoration-color: #00af00\">16820</span>)          │             <span style=\"color: #00af00; text-decoration-color: #00af00\">0</span> │\n",
       "├─────────────────────────────────┼────────────────────────┼───────────────┤\n",
       "│ dense_2 (<span style=\"color: #0087ff; text-decoration-color: #0087ff\">Dense</span>)                 │ (<span style=\"color: #00d7ff; text-decoration-color: #00d7ff\">None</span>, <span style=\"color: #00af00; text-decoration-color: #00af00\">64</span>)             │     <span style=\"color: #00af00; text-decoration-color: #00af00\">1,076,544</span> │\n",
       "├─────────────────────────────────┼────────────────────────┼───────────────┤\n",
       "│ activation_6 (<span style=\"color: #0087ff; text-decoration-color: #0087ff\">Activation</span>)       │ (<span style=\"color: #00d7ff; text-decoration-color: #00d7ff\">None</span>, <span style=\"color: #00af00; text-decoration-color: #00af00\">64</span>)             │             <span style=\"color: #00af00; text-decoration-color: #00af00\">0</span> │\n",
       "├─────────────────────────────────┼────────────────────────┼───────────────┤\n",
       "│ dense_3 (<span style=\"color: #0087ff; text-decoration-color: #0087ff\">Dense</span>)                 │ (<span style=\"color: #00d7ff; text-decoration-color: #00d7ff\">None</span>, <span style=\"color: #00af00; text-decoration-color: #00af00\">1</span>)              │            <span style=\"color: #00af00; text-decoration-color: #00af00\">65</span> │\n",
       "├─────────────────────────────────┼────────────────────────┼───────────────┤\n",
       "│ activation_7 (<span style=\"color: #0087ff; text-decoration-color: #0087ff\">Activation</span>)       │ (<span style=\"color: #00d7ff; text-decoration-color: #00d7ff\">None</span>, <span style=\"color: #00af00; text-decoration-color: #00af00\">1</span>)              │             <span style=\"color: #00af00; text-decoration-color: #00af00\">0</span> │\n",
       "└─────────────────────────────────┴────────────────────────┴───────────────┘\n",
       "</pre>\n"
      ],
      "text/plain": [
       "┏━━━━━━━━━━━━━━━━━━━━━━━━━━━━━━━━━┳━━━━━━━━━━━━━━━━━━━━━━━━┳━━━━━━━━━━━━━━━┓\n",
       "┃\u001b[1m \u001b[0m\u001b[1mLayer (type)                   \u001b[0m\u001b[1m \u001b[0m┃\u001b[1m \u001b[0m\u001b[1mOutput Shape          \u001b[0m\u001b[1m \u001b[0m┃\u001b[1m \u001b[0m\u001b[1m      Param #\u001b[0m\u001b[1m \u001b[0m┃\n",
       "┡━━━━━━━━━━━━━━━━━━━━━━━━━━━━━━━━━╇━━━━━━━━━━━━━━━━━━━━━━━━╇━━━━━━━━━━━━━━━┩\n",
       "│ conv2d_2 (\u001b[38;5;33mConv2D\u001b[0m)               │ (\u001b[38;5;45mNone\u001b[0m, \u001b[38;5;34m116\u001b[0m, \u001b[38;5;34m116\u001b[0m, \u001b[38;5;34m10\u001b[0m)   │           \u001b[38;5;34m760\u001b[0m │\n",
       "├─────────────────────────────────┼────────────────────────┼───────────────┤\n",
       "│ activation_4 (\u001b[38;5;33mActivation\u001b[0m)       │ (\u001b[38;5;45mNone\u001b[0m, \u001b[38;5;34m116\u001b[0m, \u001b[38;5;34m116\u001b[0m, \u001b[38;5;34m10\u001b[0m)   │             \u001b[38;5;34m0\u001b[0m │\n",
       "├─────────────────────────────────┼────────────────────────┼───────────────┤\n",
       "│ max_pooling2d_2 (\u001b[38;5;33mMaxPooling2D\u001b[0m)  │ (\u001b[38;5;45mNone\u001b[0m, \u001b[38;5;34m58\u001b[0m, \u001b[38;5;34m58\u001b[0m, \u001b[38;5;34m10\u001b[0m)     │             \u001b[38;5;34m0\u001b[0m │\n",
       "├─────────────────────────────────┼────────────────────────┼───────────────┤\n",
       "│ conv2d_3 (\u001b[38;5;33mConv2D\u001b[0m)               │ (\u001b[38;5;45mNone\u001b[0m, \u001b[38;5;34m58\u001b[0m, \u001b[38;5;34m58\u001b[0m, \u001b[38;5;34m20\u001b[0m)     │         \u001b[38;5;34m5,020\u001b[0m │\n",
       "├─────────────────────────────────┼────────────────────────┼───────────────┤\n",
       "│ activation_5 (\u001b[38;5;33mActivation\u001b[0m)       │ (\u001b[38;5;45mNone\u001b[0m, \u001b[38;5;34m58\u001b[0m, \u001b[38;5;34m58\u001b[0m, \u001b[38;5;34m20\u001b[0m)     │             \u001b[38;5;34m0\u001b[0m │\n",
       "├─────────────────────────────────┼────────────────────────┼───────────────┤\n",
       "│ max_pooling2d_3 (\u001b[38;5;33mMaxPooling2D\u001b[0m)  │ (\u001b[38;5;45mNone\u001b[0m, \u001b[38;5;34m29\u001b[0m, \u001b[38;5;34m29\u001b[0m, \u001b[38;5;34m20\u001b[0m)     │             \u001b[38;5;34m0\u001b[0m │\n",
       "├─────────────────────────────────┼────────────────────────┼───────────────┤\n",
       "│ flatten_1 (\u001b[38;5;33mFlatten\u001b[0m)             │ (\u001b[38;5;45mNone\u001b[0m, \u001b[38;5;34m16820\u001b[0m)          │             \u001b[38;5;34m0\u001b[0m │\n",
       "├─────────────────────────────────┼────────────────────────┼───────────────┤\n",
       "│ dense_2 (\u001b[38;5;33mDense\u001b[0m)                 │ (\u001b[38;5;45mNone\u001b[0m, \u001b[38;5;34m64\u001b[0m)             │     \u001b[38;5;34m1,076,544\u001b[0m │\n",
       "├─────────────────────────────────┼────────────────────────┼───────────────┤\n",
       "│ activation_6 (\u001b[38;5;33mActivation\u001b[0m)       │ (\u001b[38;5;45mNone\u001b[0m, \u001b[38;5;34m64\u001b[0m)             │             \u001b[38;5;34m0\u001b[0m │\n",
       "├─────────────────────────────────┼────────────────────────┼───────────────┤\n",
       "│ dense_3 (\u001b[38;5;33mDense\u001b[0m)                 │ (\u001b[38;5;45mNone\u001b[0m, \u001b[38;5;34m1\u001b[0m)              │            \u001b[38;5;34m65\u001b[0m │\n",
       "├─────────────────────────────────┼────────────────────────┼───────────────┤\n",
       "│ activation_7 (\u001b[38;5;33mActivation\u001b[0m)       │ (\u001b[38;5;45mNone\u001b[0m, \u001b[38;5;34m1\u001b[0m)              │             \u001b[38;5;34m0\u001b[0m │\n",
       "└─────────────────────────────────┴────────────────────────┴───────────────┘\n"
      ]
     },
     "metadata": {},
     "output_type": "display_data"
    },
    {
     "data": {
      "text/html": [
       "<pre style=\"white-space:pre;overflow-x:auto;line-height:normal;font-family:Menlo,'DejaVu Sans Mono',consolas,'Courier New',monospace\"><span style=\"font-weight: bold\"> Total params: </span><span style=\"color: #00af00; text-decoration-color: #00af00\">1,082,389</span> (4.13 MB)\n",
       "</pre>\n"
      ],
      "text/plain": [
       "\u001b[1m Total params: \u001b[0m\u001b[38;5;34m1,082,389\u001b[0m (4.13 MB)\n"
      ]
     },
     "metadata": {},
     "output_type": "display_data"
    },
    {
     "data": {
      "text/html": [
       "<pre style=\"white-space:pre;overflow-x:auto;line-height:normal;font-family:Menlo,'DejaVu Sans Mono',consolas,'Courier New',monospace\"><span style=\"font-weight: bold\"> Trainable params: </span><span style=\"color: #00af00; text-decoration-color: #00af00\">1,082,389</span> (4.13 MB)\n",
       "</pre>\n"
      ],
      "text/plain": [
       "\u001b[1m Trainable params: \u001b[0m\u001b[38;5;34m1,082,389\u001b[0m (4.13 MB)\n"
      ]
     },
     "metadata": {},
     "output_type": "display_data"
    },
    {
     "data": {
      "text/html": [
       "<pre style=\"white-space:pre;overflow-x:auto;line-height:normal;font-family:Menlo,'DejaVu Sans Mono',consolas,'Courier New',monospace\"><span style=\"font-weight: bold\"> Non-trainable params: </span><span style=\"color: #00af00; text-decoration-color: #00af00\">0</span> (0.00 B)\n",
       "</pre>\n"
      ],
      "text/plain": [
       "\u001b[1m Non-trainable params: \u001b[0m\u001b[38;5;34m0\u001b[0m (0.00 B)\n"
      ]
     },
     "metadata": {},
     "output_type": "display_data"
    }
   ],
   "source": [
    "model.summary()"
   ]
  },
  {
   "cell_type": "markdown",
   "metadata": {
    "id": "VORVQIzdCor6"
   },
   "source": [
    "# Setting Early Stopping Criterion"
   ]
  },
  {
   "cell_type": "code",
   "execution_count": 32,
   "metadata": {
    "id": "A8fkbNaqCor6"
   },
   "outputs": [],
   "source": [
    "from keras.callbacks import EarlyStopping\n",
    "earlystop = EarlyStopping(monitor = 'val_loss',\n",
    "                             min_delta = 0,\n",
    "                             patience = 3,\n",
    "                             verbose =1,\n",
    "                             restore_best_weights = True)\n"
   ]
  },
  {
   "cell_type": "markdown",
   "metadata": {
    "id": "PRzRGIRWikeH"
   },
   "source": [
    "# Training and Testing the model"
   ]
  },
  {
   "cell_type": "code",
   "execution_count": 33,
   "metadata": {
    "id": "WX_W8cqcica_"
   },
   "outputs": [],
   "source": [
    "model.compile(optimizer = tf.keras.optimizers.SGD(learning_rate = 0.01, momentum = 0.9) ,\n",
    "              loss='binary_crossentropy',\n",
    "              metrics=['accuracy'])"
   ]
  },
  {
   "cell_type": "code",
   "execution_count": 34,
   "metadata": {
    "colab": {
     "base_uri": "https://localhost:8080/"
    },
    "executionInfo": {
     "elapsed": 144939,
     "status": "ok",
     "timestamp": 1704230709811,
     "user": {
      "displayName": "zeeshan ahmad",
      "userId": "09790783261567949831"
     },
     "user_tz": 300
    },
    "id": "pVEtEgQCCor6",
    "outputId": "47a1ecd5-6194-47ba-bf13-9993fc1f0795"
   },
   "outputs": [
    {
     "name": "stdout",
     "output_type": "stream",
     "text": [
      "Epoch 1/500\n"
     ]
    },
    {
     "name": "stderr",
     "output_type": "stream",
     "text": [
      "c:\\Users\\danie\\anaconda3\\Lib\\site-packages\\keras\\src\\trainers\\data_adapters\\py_dataset_adapter.py:121: UserWarning: Your `PyDataset` class should call `super().__init__(**kwargs)` in its constructor. `**kwargs` can include `workers`, `use_multiprocessing`, `max_queue_size`. Do not pass these arguments to `fit()`, as they will be ignored.\n",
      "  self._warn_if_super_not_called()\n"
     ]
    },
    {
     "name": "stdout",
     "output_type": "stream",
     "text": [
      "\u001b[1m50/50\u001b[0m \u001b[32m━━━━━━━━━━━━━━━━━━━━\u001b[0m\u001b[37m\u001b[0m \u001b[1m4s\u001b[0m 73ms/step - accuracy: 0.7460 - loss: 0.6129 - val_accuracy: 0.9576 - val_loss: 0.0802\n",
      "Epoch 2/500\n",
      "\u001b[1m50/50\u001b[0m \u001b[32m━━━━━━━━━━━━━━━━━━━━\u001b[0m\u001b[37m\u001b[0m \u001b[1m1s\u001b[0m 15ms/step - accuracy: 0.9730 - loss: 0.0736 - val_accuracy: 0.9900 - val_loss: 0.0409\n",
      "Epoch 3/500\n",
      "\u001b[1m50/50\u001b[0m \u001b[32m━━━━━━━━━━━━━━━━━━━━\u001b[0m\u001b[37m\u001b[0m \u001b[1m1s\u001b[0m 16ms/step - accuracy: 0.9951 - loss: 0.0225 - val_accuracy: 0.9925 - val_loss: 0.0214\n",
      "Epoch 4/500\n",
      "\u001b[1m50/50\u001b[0m \u001b[32m━━━━━━━━━━━━━━━━━━━━\u001b[0m\u001b[37m\u001b[0m \u001b[1m1s\u001b[0m 16ms/step - accuracy: 0.9969 - loss: 0.0153 - val_accuracy: 0.9925 - val_loss: 0.0233\n",
      "Epoch 5/500\n",
      "\u001b[1m50/50\u001b[0m \u001b[32m━━━━━━━━━━━━━━━━━━━━\u001b[0m\u001b[37m\u001b[0m \u001b[1m1s\u001b[0m 16ms/step - accuracy: 0.9996 - loss: 0.0034 - val_accuracy: 0.9975 - val_loss: 0.0140\n",
      "Epoch 6/500\n",
      "\u001b[1m50/50\u001b[0m \u001b[32m━━━━━━━━━━━━━━━━━━━━\u001b[0m\u001b[37m\u001b[0m \u001b[1m1s\u001b[0m 16ms/step - accuracy: 0.9986 - loss: 0.0044 - val_accuracy: 0.9950 - val_loss: 0.0178\n",
      "Epoch 7/500\n",
      "\u001b[1m50/50\u001b[0m \u001b[32m━━━━━━━━━━━━━━━━━━━━\u001b[0m\u001b[37m\u001b[0m \u001b[1m1s\u001b[0m 15ms/step - accuracy: 0.9998 - loss: 0.0010 - val_accuracy: 0.9975 - val_loss: 0.0168\n",
      "Epoch 8/500\n",
      "\u001b[1m50/50\u001b[0m \u001b[32m━━━━━━━━━━━━━━━━━━━━\u001b[0m\u001b[37m\u001b[0m \u001b[1m1s\u001b[0m 16ms/step - accuracy: 1.0000 - loss: 9.5556e-04 - val_accuracy: 0.9950 - val_loss: 0.0212\n",
      "Epoch 8: early stopping\n",
      "Restoring model weights from the end of the best epoch: 5.\n"
     ]
    }
   ],
   "source": [
    "hist = model.fit(training_set,\n",
    "                              epochs = 500,\n",
    "                              validation_data = test_set,\n",
    "                              callbacks = earlystop)"
   ]
  },
  {
   "cell_type": "code",
   "execution_count": 35,
   "metadata": {
    "id": "He2B7ciKCor6"
   },
   "outputs": [],
   "source": [
    "trainAcc = [100 * x for x in hist.history['accuracy']]\n",
    "testAcc = [100 * x for x in hist.history['val_accuracy']]"
   ]
  },
  {
   "cell_type": "markdown",
   "metadata": {
    "id": "TFHguRCnrRNM"
   },
   "source": [
    "# Visualize the Model Performance"
   ]
  },
  {
   "cell_type": "code",
   "execution_count": 36,
   "metadata": {
    "colab": {
     "base_uri": "https://localhost:8080/",
     "height": 454
    },
    "executionInfo": {
     "elapsed": 20074,
     "status": "ok",
     "timestamp": 1704230904885,
     "user": {
      "displayName": "zeeshan ahmad",
      "userId": "09790783261567949831"
     },
     "user_tz": 300
    },
    "id": "fgAsarUoUmG-",
    "outputId": "366190a5-47c9-4ce8-f226-e1a07012f6ee"
   },
   "outputs": [
    {
     "data": {
      "image/png": "[encoded data removed]",
      "text/plain": [
       "<Figure size 1800x600 with 2 Axes>"
      ]
     },
     "metadata": {},
     "output_type": "display_data"
    }
   ],
   "source": [
    "fig,ax = plt.subplots(1,2,figsize=(18,6))\n",
    "\n",
    "ax[0].plot(hist.history['loss'], 'g', lw = 3, label = 'Training Loss')\n",
    "ax[0].plot(hist.history['val_loss'], 'y', lw = 3, label = 'Validation Loss')\n",
    "ax[0].set_xlabel('Epochs', fontsize = 15)\n",
    "ax[0].set_ylabel('Loss', fontsize = 15)\n",
    "ax[0].legend(fontsize = 15)\n",
    "ax[0].set_title('Training Loss', fontsize = 15)\n",
    "\n",
    "\n",
    "ax[1].plot(trainAcc, label ='Train', lw = 3)\n",
    "ax[1].plot(testAcc, label ='Test', lw = 3)\n",
    "ax[1].set_xlabel('Epochs', fontsize = 15)\n",
    "ax[1].set_ylabel('Accuracy (%)', fontsize = 15)\n",
    "ax[1].set_ylim([10,110])\n",
    "ax[1].set_title(f'Train Accuracy: {trainAcc[-1]:.2f}% \\n Test Accuracy: {testAcc[-1]:.2f}%', fontsize = 15)\n",
    "ax[1].legend(fontsize = 15)\n",
    "\n",
    "plt.show()"
   ]
  },
  {
   "cell_type": "code",
   "execution_count": null,
   "metadata": {
    "id": "llZrWN7UUmG_"
   },
   "outputs": [],
   "source": []
  }
 ],
 "metadata": {
  "colab": {
   "provenance": []
  },
  "kernelspec": {
   "display_name": "Python 3 (ipykernel)",
   "language": "python",
   "name": "python3"
  },
  "language_info": {
   "codemirror_mode": {
    "name": "ipython",
    "version": 3
   },
   "file_extension": ".py",
   "mimetype": "text/x-python",
   "name": "python",
   "nbconvert_exporter": "python",
   "pygments_lexer": "ipython3",
   "version": "3.10.11"
  }
 },
 "nbformat": 4,
 "nbformat_minor": 4
}
